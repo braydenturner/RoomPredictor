{
 "cells": [
  {
   "cell_type": "code",
   "id": "initial_id",
   "metadata": {
    "collapsed": true,
    "ExecuteTime": {
     "end_time": "2024-07-07T22:40:20.716311Z",
     "start_time": "2024-07-07T22:40:19.327956Z"
    }
   },
   "source": [
    "import pandas as pd\n",
    "import numpy as np\n",
    "\n",
    "import torch\n",
    "import torch.nn.functional as F\n",
    "from torch import nn\n",
    "from torch.utils.data import random_split, DataLoader, Dataset"
   ],
   "outputs": [],
   "execution_count": 2
  },
  {
   "metadata": {
    "ExecuteTime": {
     "end_time": "2024-07-07T22:40:21.113285Z",
     "start_time": "2024-07-07T22:40:21.110804Z"
    }
   },
   "cell_type": "code",
   "source": [
    "batch_size = 32\n",
    "val_percentage = 0.1\n",
    "test_percentage = 0.1\n",
    "\n",
    "seed = 1536282"
   ],
   "id": "cf78336f16205240",
   "outputs": [],
   "execution_count": 3
  },
  {
   "metadata": {
    "ExecuteTime": {
     "end_time": "2024-07-07T22:40:22.014112Z",
     "start_time": "2024-07-07T22:40:21.995135Z"
    }
   },
   "cell_type": "code",
   "source": [
    "data = pd.read_csv(\"data/roomPredictionData2.csv\")\n",
    "data.count()"
   ],
   "id": "35b9a3f5e8956421",
   "outputs": [
    {
     "data": {
      "text/plain": [
       "room    3279\n",
       "id      3279\n",
       "rssi    3279\n",
       "time    3279\n",
       "dtype: int64"
      ]
     },
     "execution_count": 4,
     "metadata": {},
     "output_type": "execute_result"
    }
   ],
   "execution_count": 4
  },
  {
   "metadata": {
    "ExecuteTime": {
     "end_time": "2024-07-07T22:40:26.268946Z",
     "start_time": "2024-07-07T22:40:26.264304Z"
    }
   },
   "cell_type": "code",
   "source": "data.room.unique()",
   "id": "3e8fbb243ffe139c",
   "outputs": [
    {
     "data": {
      "text/plain": [
       "array(['Office', 'Hallway', 'Kitchen', 'Living Room', 'Bedroom'],\n",
       "      dtype=object)"
      ]
     },
     "execution_count": 5,
     "metadata": {},
     "output_type": "execute_result"
    }
   ],
   "execution_count": 5
  },
  {
   "metadata": {},
   "cell_type": "markdown",
   "source": "Below is converting the time to int64. This will be used to group points / second to triangulate location. Each of these groups will be used as a data point to be passed through the model",
   "id": "2419f8a2e2b3b7ee"
  },
  {
   "metadata": {
    "ExecuteTime": {
     "end_time": "2024-07-07T22:49:30.170559Z",
     "start_time": "2024-07-07T22:49:30.167148Z"
    }
   },
   "cell_type": "code",
   "source": "data[\"time_int\"] = data.loc[:, \"time\"].astype(np.int64)",
   "id": "c4c3a401105b731a",
   "outputs": [],
   "execution_count": 11
  },
  {
   "metadata": {
    "ExecuteTime": {
     "end_time": "2024-07-07T22:49:37.990557Z",
     "start_time": "2024-07-07T22:49:37.984725Z"
    }
   },
   "cell_type": "code",
   "source": "data",
   "id": "5770a90bce138e42",
   "outputs": [
    {
     "data": {
      "text/plain": [
       "         room                                    id  rssi          time  \\\n",
       "0      Office  C89F2066-D85B-7A21-E292-A1735A30A295 -83.0  7.420843e+08   \n",
       "1      Office  216D23F7-E6A1-7727-A3D5-91C76258F327 -59.0  7.420843e+08   \n",
       "2      Office  11FE69C7-7DD2-13AF-1493-7B63E92D5B0D -56.0  7.420843e+08   \n",
       "3      Office  DB047FFD-D211-EDF3-345E-1FE933920DC2 -83.0  7.420843e+08   \n",
       "4      Office  AB8FA414-1C59-7DE7-F7EF-87C6CF2A303B -79.0  7.420843e+08   \n",
       "...       ...                                   ...   ...           ...   \n",
       "3274  Bedroom  94CE6244-F55B-5A57-E0D3-400D3E564F48 -76.0  7.420847e+08   \n",
       "3275  Bedroom  94CE6244-F55B-5A57-E0D3-400D3E564F48 -75.0  7.420847e+08   \n",
       "3276  Bedroom  767B7B8B-5B66-F187-5E3F-2D91165B7273 -98.0  7.420847e+08   \n",
       "3277  Bedroom  94CE6244-F55B-5A57-E0D3-400D3E564F48 -72.0  7.420847e+08   \n",
       "3278  Bedroom  94CE6244-F55B-5A57-E0D3-400D3E564F48 -72.0  7.420847e+08   \n",
       "\n",
       "       time_int  \n",
       "0     742084271  \n",
       "1     742084271  \n",
       "2     742084271  \n",
       "3     742084271  \n",
       "4     742084271  \n",
       "...         ...  \n",
       "3274  742084682  \n",
       "3275  742084682  \n",
       "3276  742084682  \n",
       "3277  742084683  \n",
       "3278  742084683  \n",
       "\n",
       "[3279 rows x 5 columns]"
      ],
      "text/html": [
       "<div>\n",
       "<style scoped>\n",
       "    .dataframe tbody tr th:only-of-type {\n",
       "        vertical-align: middle;\n",
       "    }\n",
       "\n",
       "    .dataframe tbody tr th {\n",
       "        vertical-align: top;\n",
       "    }\n",
       "\n",
       "    .dataframe thead th {\n",
       "        text-align: right;\n",
       "    }\n",
       "</style>\n",
       "<table border=\"1\" class=\"dataframe\">\n",
       "  <thead>\n",
       "    <tr style=\"text-align: right;\">\n",
       "      <th></th>\n",
       "      <th>room</th>\n",
       "      <th>id</th>\n",
       "      <th>rssi</th>\n",
       "      <th>time</th>\n",
       "      <th>time_int</th>\n",
       "    </tr>\n",
       "  </thead>\n",
       "  <tbody>\n",
       "    <tr>\n",
       "      <th>0</th>\n",
       "      <td>Office</td>\n",
       "      <td>C89F2066-D85B-7A21-E292-A1735A30A295</td>\n",
       "      <td>-83.0</td>\n",
       "      <td>7.420843e+08</td>\n",
       "      <td>742084271</td>\n",
       "    </tr>\n",
       "    <tr>\n",
       "      <th>1</th>\n",
       "      <td>Office</td>\n",
       "      <td>216D23F7-E6A1-7727-A3D5-91C76258F327</td>\n",
       "      <td>-59.0</td>\n",
       "      <td>7.420843e+08</td>\n",
       "      <td>742084271</td>\n",
       "    </tr>\n",
       "    <tr>\n",
       "      <th>2</th>\n",
       "      <td>Office</td>\n",
       "      <td>11FE69C7-7DD2-13AF-1493-7B63E92D5B0D</td>\n",
       "      <td>-56.0</td>\n",
       "      <td>7.420843e+08</td>\n",
       "      <td>742084271</td>\n",
       "    </tr>\n",
       "    <tr>\n",
       "      <th>3</th>\n",
       "      <td>Office</td>\n",
       "      <td>DB047FFD-D211-EDF3-345E-1FE933920DC2</td>\n",
       "      <td>-83.0</td>\n",
       "      <td>7.420843e+08</td>\n",
       "      <td>742084271</td>\n",
       "    </tr>\n",
       "    <tr>\n",
       "      <th>4</th>\n",
       "      <td>Office</td>\n",
       "      <td>AB8FA414-1C59-7DE7-F7EF-87C6CF2A303B</td>\n",
       "      <td>-79.0</td>\n",
       "      <td>7.420843e+08</td>\n",
       "      <td>742084271</td>\n",
       "    </tr>\n",
       "    <tr>\n",
       "      <th>...</th>\n",
       "      <td>...</td>\n",
       "      <td>...</td>\n",
       "      <td>...</td>\n",
       "      <td>...</td>\n",
       "      <td>...</td>\n",
       "    </tr>\n",
       "    <tr>\n",
       "      <th>3274</th>\n",
       "      <td>Bedroom</td>\n",
       "      <td>94CE6244-F55B-5A57-E0D3-400D3E564F48</td>\n",
       "      <td>-76.0</td>\n",
       "      <td>7.420847e+08</td>\n",
       "      <td>742084682</td>\n",
       "    </tr>\n",
       "    <tr>\n",
       "      <th>3275</th>\n",
       "      <td>Bedroom</td>\n",
       "      <td>94CE6244-F55B-5A57-E0D3-400D3E564F48</td>\n",
       "      <td>-75.0</td>\n",
       "      <td>7.420847e+08</td>\n",
       "      <td>742084682</td>\n",
       "    </tr>\n",
       "    <tr>\n",
       "      <th>3276</th>\n",
       "      <td>Bedroom</td>\n",
       "      <td>767B7B8B-5B66-F187-5E3F-2D91165B7273</td>\n",
       "      <td>-98.0</td>\n",
       "      <td>7.420847e+08</td>\n",
       "      <td>742084682</td>\n",
       "    </tr>\n",
       "    <tr>\n",
       "      <th>3277</th>\n",
       "      <td>Bedroom</td>\n",
       "      <td>94CE6244-F55B-5A57-E0D3-400D3E564F48</td>\n",
       "      <td>-72.0</td>\n",
       "      <td>7.420847e+08</td>\n",
       "      <td>742084683</td>\n",
       "    </tr>\n",
       "    <tr>\n",
       "      <th>3278</th>\n",
       "      <td>Bedroom</td>\n",
       "      <td>94CE6244-F55B-5A57-E0D3-400D3E564F48</td>\n",
       "      <td>-72.0</td>\n",
       "      <td>7.420847e+08</td>\n",
       "      <td>742084683</td>\n",
       "    </tr>\n",
       "  </tbody>\n",
       "</table>\n",
       "<p>3279 rows × 5 columns</p>\n",
       "</div>"
      ]
     },
     "execution_count": 12,
     "metadata": {},
     "output_type": "execute_result"
    }
   ],
   "execution_count": 12
  },
  {
   "metadata": {},
   "cell_type": "markdown",
   "source": "# DataLoader\n",
   "id": "af9d9ca1186dc252"
  },
  {
   "metadata": {
    "ExecuteTime": {
     "end_time": "2024-07-07T21:36:23.112831Z",
     "start_time": "2024-07-07T21:36:23.109213Z"
    }
   },
   "cell_type": "code",
   "source": [
    "class Data(Dataset):\n",
    "    \n",
    "    def __init__(self, data_frame: pd.DataFrame):\n",
    "        self.X = torch.from_numpy(data_frame.loc[:, data_frame.columns != \"room\"].to_numpy())\n",
    "        self.y = torch.from_numpy(data_frame.loc[:,\"room\"].to_numpy())\n",
    "        \n",
    "    def __getitem__(self, index):\n",
    "        return self.X[index], self.y[index]\n",
    "    \n",
    "    def __len__(self):\n",
    "        return len(self.y)\n",
    "    "
   ],
   "id": "5f6f9246453a7f37",
   "outputs": [],
   "execution_count": 40
  },
  {
   "metadata": {},
   "cell_type": "code",
   "outputs": [
    {
     "ename": "AttributeError",
     "evalue": "'Subset' object has no attribute 'loc'",
     "output_type": "error",
     "traceback": [
      "\u001B[0;31m---------------------------------------------------------------------------\u001B[0m",
      "\u001B[0;31mAttributeError\u001B[0m                            Traceback (most recent call last)",
      "Cell \u001B[0;32mIn[39], line 43\u001B[0m\n\u001B[1;32m     39\u001B[0m     \u001B[38;5;28;01mreturn\u001B[39;00m train, val, test\n\u001B[1;32m     42\u001B[0m train, val, test \u001B[38;5;241m=\u001B[39m split(data, val_percentage, test_percentage, seed)\n\u001B[0;32m---> 43\u001B[0m train \u001B[38;5;241m=\u001B[39m \u001B[43mData\u001B[49m\u001B[43m(\u001B[49m\u001B[43mtrain\u001B[49m\u001B[43m)\u001B[49m\n\u001B[1;32m     44\u001B[0m val \u001B[38;5;241m=\u001B[39m Data(val)\n\u001B[1;32m     45\u001B[0m test \u001B[38;5;241m=\u001B[39m Data(test)\n",
      "Cell \u001B[0;32mIn[39], line 4\u001B[0m, in \u001B[0;36mData.__init__\u001B[0;34m(self, data_frame)\u001B[0m\n\u001B[1;32m      3\u001B[0m \u001B[38;5;28;01mdef\u001B[39;00m \u001B[38;5;21m__init__\u001B[39m(\u001B[38;5;28mself\u001B[39m, data_frame: pd\u001B[38;5;241m.\u001B[39mDataFrame):\n\u001B[0;32m----> 4\u001B[0m     \u001B[38;5;28mself\u001B[39m\u001B[38;5;241m.\u001B[39mX \u001B[38;5;241m=\u001B[39m torch\u001B[38;5;241m.\u001B[39mfrom_numpy(\u001B[43mdata_frame\u001B[49m\u001B[38;5;241;43m.\u001B[39;49m\u001B[43mloc\u001B[49m[:, data_frame\u001B[38;5;241m.\u001B[39mcolumns \u001B[38;5;241m!=\u001B[39m \u001B[38;5;124m\"\u001B[39m\u001B[38;5;124mroom\u001B[39m\u001B[38;5;124m\"\u001B[39m]\u001B[38;5;241m.\u001B[39mto_numpy())\n\u001B[1;32m      5\u001B[0m     \u001B[38;5;28mself\u001B[39m\u001B[38;5;241m.\u001B[39my \u001B[38;5;241m=\u001B[39m torch\u001B[38;5;241m.\u001B[39mfrom_numpy(data_frame\u001B[38;5;241m.\u001B[39mloc[:,\u001B[38;5;124m\"\u001B[39m\u001B[38;5;124mroom\u001B[39m\u001B[38;5;124m\"\u001B[39m]\u001B[38;5;241m.\u001B[39mto_numpy())\n",
      "\u001B[0;31mAttributeError\u001B[0m: 'Subset' object has no attribute 'loc'"
     ]
    }
   ],
   "execution_count": 39,
   "source": [
    "    \n",
    "def split(data, val_perc, test_perc, seed = None):\n",
    "    \n",
    "    # Get total amount\n",
    "    amount = len(data)\n",
    "    \n",
    "    # Get test amount\n",
    "    test_amount = (\n",
    "        int(amount * test_perc)\n",
    "        if test_perc is not None else 0)\n",
    "    # Get validation amount\n",
    "    val_amount = (\n",
    "        int(amount * val_perc)\n",
    "        if val_perc is not None else 0)\n",
    "    # Get train amount\n",
    "    train_amount = amount - test_amount - val_amount\n",
    "    \n",
    "    train, val, test = random_split(\n",
    "        data,\n",
    "        (train_amount, val_amount, test_amount),\n",
    "        # If we have a seed, pass that in to a torch generator\n",
    "        generator=(\n",
    "            torch.Generator().manual_seed(seed)\n",
    "            if seed\n",
    "            else None))\n",
    "    \n",
    "    return train, val, test\n",
    "    \n",
    "\n",
    "train, val, test = split(data, val_percentage, test_percentage, seed)\n",
    "train = Data(train)\n",
    "val = Data(val)\n",
    "test = Data(test)\n",
    "\n",
    "train_loader = DataLoader(train, batch_size=batch_size, shuffle=True)\n",
    "val_loader = DataLoader(val, batch_size=batch_size, shuffle=True)\n",
    "test_loader = DataLoader(test, batch_size=batch_size, shuffle=False)"
   ],
   "id": "27119cb82c33b819"
  },
  {
   "metadata": {
    "ExecuteTime": {
     "end_time": "2024-07-07T21:36:26.181144Z",
     "start_time": "2024-07-07T21:36:26.155900Z"
    }
   },
   "cell_type": "code",
   "source": "Data(data)",
   "id": "f497b8b60dbf6bf2",
   "outputs": [
    {
     "ename": "TypeError",
     "evalue": "can't convert np.ndarray of type numpy.object_. The only supported types are: float64, float32, float16, complex64, complex128, int64, int32, int16, int8, uint64, uint32, uint16, uint8, and bool.",
     "output_type": "error",
     "traceback": [
      "\u001B[0;31m---------------------------------------------------------------------------\u001B[0m",
      "\u001B[0;31mTypeError\u001B[0m                                 Traceback (most recent call last)",
      "Cell \u001B[0;32mIn[41], line 1\u001B[0m\n\u001B[0;32m----> 1\u001B[0m \u001B[43mData\u001B[49m\u001B[43m(\u001B[49m\u001B[43mdata\u001B[49m\u001B[43m)\u001B[49m\n",
      "Cell \u001B[0;32mIn[40], line 4\u001B[0m, in \u001B[0;36mData.__init__\u001B[0;34m(self, data_frame)\u001B[0m\n\u001B[1;32m      3\u001B[0m \u001B[38;5;28;01mdef\u001B[39;00m \u001B[38;5;21m__init__\u001B[39m(\u001B[38;5;28mself\u001B[39m, data_frame: pd\u001B[38;5;241m.\u001B[39mDataFrame):\n\u001B[0;32m----> 4\u001B[0m     \u001B[38;5;28mself\u001B[39m\u001B[38;5;241m.\u001B[39mX \u001B[38;5;241m=\u001B[39m \u001B[43mtorch\u001B[49m\u001B[38;5;241;43m.\u001B[39;49m\u001B[43mfrom_numpy\u001B[49m\u001B[43m(\u001B[49m\u001B[43mdata_frame\u001B[49m\u001B[38;5;241;43m.\u001B[39;49m\u001B[43mloc\u001B[49m\u001B[43m[\u001B[49m\u001B[43m:\u001B[49m\u001B[43m,\u001B[49m\u001B[43m \u001B[49m\u001B[43mdata_frame\u001B[49m\u001B[38;5;241;43m.\u001B[39;49m\u001B[43mcolumns\u001B[49m\u001B[43m \u001B[49m\u001B[38;5;241;43m!=\u001B[39;49m\u001B[43m \u001B[49m\u001B[38;5;124;43m\"\u001B[39;49m\u001B[38;5;124;43mroom\u001B[39;49m\u001B[38;5;124;43m\"\u001B[39;49m\u001B[43m]\u001B[49m\u001B[38;5;241;43m.\u001B[39;49m\u001B[43mto_numpy\u001B[49m\u001B[43m(\u001B[49m\u001B[43m)\u001B[49m\u001B[43m)\u001B[49m\n\u001B[1;32m      5\u001B[0m     \u001B[38;5;28mself\u001B[39m\u001B[38;5;241m.\u001B[39my \u001B[38;5;241m=\u001B[39m torch\u001B[38;5;241m.\u001B[39mfrom_numpy(data_frame\u001B[38;5;241m.\u001B[39mloc[:,\u001B[38;5;124m\"\u001B[39m\u001B[38;5;124mroom\u001B[39m\u001B[38;5;124m\"\u001B[39m]\u001B[38;5;241m.\u001B[39mto_numpy())\n",
      "\u001B[0;31mTypeError\u001B[0m: can't convert np.ndarray of type numpy.object_. The only supported types are: float64, float32, float16, complex64, complex128, int64, int32, int16, int8, uint64, uint32, uint16, uint8, and bool."
     ]
    }
   ],
   "execution_count": 41
  },
  {
   "metadata": {},
   "cell_type": "markdown",
   "source": "# Model",
   "id": "6c7a696e785f784c"
  },
  {
   "metadata": {},
   "cell_type": "code",
   "outputs": [],
   "execution_count": null,
   "source": [
    "class Classifier(nn.Module):\n",
    "    \n",
    "    def __init__(self, num_hidden, num_outputs, dropout=0.5):\n",
    "        super().__init__()\n",
    "        self.net = nn.Sequential(\n",
    "            nn.LazyLinear(num_hidden), nn.ReLU(), nn.Dropout(dropout),\n",
    "            nn.LazyLinear(num_outputs), nn.Softmax()\n",
    "            \n",
    "        )\n",
    "        \n",
    "    def forward(self, X):\n",
    "        return self.net(X)\n",
    "        "
   ],
   "id": "d9cc8d1579a48e68"
  }
 ],
 "metadata": {
  "kernelspec": {
   "display_name": "Python 3",
   "language": "python",
   "name": "python3"
  },
  "language_info": {
   "codemirror_mode": {
    "name": "ipython",
    "version": 2
   },
   "file_extension": ".py",
   "mimetype": "text/x-python",
   "name": "python",
   "nbconvert_exporter": "python",
   "pygments_lexer": "ipython2",
   "version": "2.7.6"
  }
 },
 "nbformat": 4,
 "nbformat_minor": 5
}
