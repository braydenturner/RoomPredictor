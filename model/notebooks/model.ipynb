{
 "cells": [
  {
   "cell_type": "code",
   "execution_count": 1,
   "id": "initial_id",
   "metadata": {
    "ExecuteTime": {
     "end_time": "2024-07-11T21:55:44.603569Z",
     "start_time": "2024-07-11T21:55:40.385798Z"
    },
    "collapsed": true
   },
   "outputs": [],
   "source": [
    "import pandas as pd\n",
    "import numpy as np\n",
    "\n",
    "import torch\n",
    "from torch import nn\n",
    "from torch.utils.data import random_split, DataLoader, Dataset"
   ]
  },
  {
   "cell_type": "code",
   "execution_count": 2,
   "id": "961e49b5aaf435e2",
   "metadata": {
    "ExecuteTime": {
     "end_time": "2024-07-11T21:55:45.754583Z",
     "start_time": "2024-07-11T21:55:45.702525Z"
    }
   },
   "outputs": [
    {
     "data": {
      "text/html": [
       "<div>\n",
       "<style scoped>\n",
       "    .dataframe tbody tr th:only-of-type {\n",
       "        vertical-align: middle;\n",
       "    }\n",
       "\n",
       "    .dataframe tbody tr th {\n",
       "        vertical-align: top;\n",
       "    }\n",
       "\n",
       "    .dataframe thead th {\n",
       "        text-align: right;\n",
       "    }\n",
       "</style>\n",
       "<table border=\"1\" class=\"dataframe\">\n",
       "  <thead>\n",
       "    <tr style=\"text-align: right;\">\n",
       "      <th></th>\n",
       "      <th>room</th>\n",
       "      <th>id</th>\n",
       "      <th>rssi</th>\n",
       "      <th>time</th>\n",
       "      <th>name</th>\n",
       "      <th>time_int</th>\n",
       "    </tr>\n",
       "  </thead>\n",
       "  <tbody>\n",
       "    <tr>\n",
       "      <th>0</th>\n",
       "      <td>Office</td>\n",
       "      <td>216D23F7-E6A1-7727-A3D5-91C76258F327</td>\n",
       "      <td>-60.000</td>\n",
       "      <td>742178653.889</td>\n",
       "      <td>Office</td>\n",
       "      <td>742178653</td>\n",
       "    </tr>\n",
       "    <tr>\n",
       "      <th>1</th>\n",
       "      <td>Office</td>\n",
       "      <td>767B7B8B-5B66-F187-5E3F-2D91165B7273</td>\n",
       "      <td>-86.000</td>\n",
       "      <td>742178653.987</td>\n",
       "      <td>Maliha’s Room</td>\n",
       "      <td>742178653</td>\n",
       "    </tr>\n",
       "    <tr>\n",
       "      <th>2</th>\n",
       "      <td>Office</td>\n",
       "      <td>4B1CB61A-F138-C74E-68D6-89CBA40735F8</td>\n",
       "      <td>-89.000</td>\n",
       "      <td>742178654.006</td>\n",
       "      <td>HomePod</td>\n",
       "      <td>742178654</td>\n",
       "    </tr>\n",
       "    <tr>\n",
       "      <th>3</th>\n",
       "      <td>Office</td>\n",
       "      <td>AB8FA414-1C59-7DE7-F7EF-87C6CF2A303B</td>\n",
       "      <td>-78.000</td>\n",
       "      <td>742178654.012</td>\n",
       "      <td>Living room (2)</td>\n",
       "      <td>742178654</td>\n",
       "    </tr>\n",
       "    <tr>\n",
       "      <th>4</th>\n",
       "      <td>Office</td>\n",
       "      <td>C89F2066-D85B-7A21-E292-A1735A30A295</td>\n",
       "      <td>-84.000</td>\n",
       "      <td>742178654.020</td>\n",
       "      <td>Bedroom</td>\n",
       "      <td>742178654</td>\n",
       "    </tr>\n",
       "    <tr>\n",
       "      <th>...</th>\n",
       "      <td>...</td>\n",
       "      <td>...</td>\n",
       "      <td>...</td>\n",
       "      <td>...</td>\n",
       "      <td>...</td>\n",
       "      <td>...</td>\n",
       "    </tr>\n",
       "    <tr>\n",
       "      <th>410</th>\n",
       "      <td>Office</td>\n",
       "      <td>94CE6244-F55B-5A57-E0D3-400D3E564F48</td>\n",
       "      <td>-84.000</td>\n",
       "      <td>742178712.414</td>\n",
       "      <td>NaN</td>\n",
       "      <td>742178712</td>\n",
       "    </tr>\n",
       "    <tr>\n",
       "      <th>411</th>\n",
       "      <td>Office</td>\n",
       "      <td>767B7B8B-5B66-F187-5E3F-2D91165B7273</td>\n",
       "      <td>-88.000</td>\n",
       "      <td>742178712.898</td>\n",
       "      <td>Maliha’s Room</td>\n",
       "      <td>742178712</td>\n",
       "    </tr>\n",
       "    <tr>\n",
       "      <th>412</th>\n",
       "      <td>Office</td>\n",
       "      <td>94CE6244-F55B-5A57-E0D3-400D3E564F48</td>\n",
       "      <td>-95.000</td>\n",
       "      <td>742178712.973</td>\n",
       "      <td>NaN</td>\n",
       "      <td>742178712</td>\n",
       "    </tr>\n",
       "    <tr>\n",
       "      <th>413</th>\n",
       "      <td>Office</td>\n",
       "      <td>94CE6244-F55B-5A57-E0D3-400D3E564F48</td>\n",
       "      <td>-93.000</td>\n",
       "      <td>742178712.984</td>\n",
       "      <td>NaN</td>\n",
       "      <td>742178712</td>\n",
       "    </tr>\n",
       "    <tr>\n",
       "      <th>414</th>\n",
       "      <td>Office</td>\n",
       "      <td>48E8E8ED-E1C2-4930-BB0F-F12CA784B697</td>\n",
       "      <td>-92.000</td>\n",
       "      <td>742178713.343</td>\n",
       "      <td>NaN</td>\n",
       "      <td>742178713</td>\n",
       "    </tr>\n",
       "  </tbody>\n",
       "</table>\n",
       "<p>415 rows × 6 columns</p>\n",
       "</div>"
      ],
      "text/plain": [
       "       room                                    id    rssi          time  \\\n",
       "0    Office  216D23F7-E6A1-7727-A3D5-91C76258F327 -60.000 742178653.889   \n",
       "1    Office  767B7B8B-5B66-F187-5E3F-2D91165B7273 -86.000 742178653.987   \n",
       "2    Office  4B1CB61A-F138-C74E-68D6-89CBA40735F8 -89.000 742178654.006   \n",
       "3    Office  AB8FA414-1C59-7DE7-F7EF-87C6CF2A303B -78.000 742178654.012   \n",
       "4    Office  C89F2066-D85B-7A21-E292-A1735A30A295 -84.000 742178654.020   \n",
       "..      ...                                   ...     ...           ...   \n",
       "410  Office  94CE6244-F55B-5A57-E0D3-400D3E564F48 -84.000 742178712.414   \n",
       "411  Office  767B7B8B-5B66-F187-5E3F-2D91165B7273 -88.000 742178712.898   \n",
       "412  Office  94CE6244-F55B-5A57-E0D3-400D3E564F48 -95.000 742178712.973   \n",
       "413  Office  94CE6244-F55B-5A57-E0D3-400D3E564F48 -93.000 742178712.984   \n",
       "414  Office  48E8E8ED-E1C2-4930-BB0F-F12CA784B697 -92.000 742178713.343   \n",
       "\n",
       "                name   time_int  \n",
       "0             Office  742178653  \n",
       "1      Maliha’s Room  742178653  \n",
       "2            HomePod  742178654  \n",
       "3    Living room (2)  742178654  \n",
       "4            Bedroom  742178654  \n",
       "..               ...        ...  \n",
       "410              NaN  742178712  \n",
       "411    Maliha’s Room  742178712  \n",
       "412              NaN  742178712  \n",
       "413              NaN  742178712  \n",
       "414              NaN  742178713  \n",
       "\n",
       "[415 rows x 6 columns]"
      ]
     },
     "execution_count": 2,
     "metadata": {},
     "output_type": "execute_result"
    }
   ],
   "source": [
    "pd.set_option('display.float_format', lambda x: '%.3f' % x)\n",
    "data2 = pd.read_csv(\"data/roomPredictionData3.csv\")\n",
    "data2[\"time_int\"] = data2.loc[:, \"time\"].astype(np.int64)\n",
    "data2"
   ]
  },
  {
   "cell_type": "code",
   "execution_count": 3,
   "id": "35b9a3f5e8956421",
   "metadata": {
    "ExecuteTime": {
     "end_time": "2024-07-11T21:55:45.967872Z",
     "start_time": "2024-07-11T21:55:45.959107Z"
    }
   },
   "outputs": [
    {
     "data": {
      "text/html": [
       "<div>\n",
       "<style scoped>\n",
       "    .dataframe tbody tr th:only-of-type {\n",
       "        vertical-align: middle;\n",
       "    }\n",
       "\n",
       "    .dataframe tbody tr th {\n",
       "        vertical-align: top;\n",
       "    }\n",
       "\n",
       "    .dataframe thead th {\n",
       "        text-align: right;\n",
       "    }\n",
       "</style>\n",
       "<table border=\"1\" class=\"dataframe\">\n",
       "  <thead>\n",
       "    <tr style=\"text-align: right;\">\n",
       "      <th></th>\n",
       "      <th>room</th>\n",
       "      <th>id</th>\n",
       "      <th>rssi</th>\n",
       "      <th>time</th>\n",
       "    </tr>\n",
       "  </thead>\n",
       "  <tbody>\n",
       "    <tr>\n",
       "      <th>0</th>\n",
       "      <td>Office</td>\n",
       "      <td>C89F2066-D85B-7A21-E292-A1735A30A295</td>\n",
       "      <td>-83.000</td>\n",
       "      <td>742084271.559</td>\n",
       "    </tr>\n",
       "    <tr>\n",
       "      <th>1</th>\n",
       "      <td>Office</td>\n",
       "      <td>216D23F7-E6A1-7727-A3D5-91C76258F327</td>\n",
       "      <td>-59.000</td>\n",
       "      <td>742084271.566</td>\n",
       "    </tr>\n",
       "    <tr>\n",
       "      <th>2</th>\n",
       "      <td>Office</td>\n",
       "      <td>11FE69C7-7DD2-13AF-1493-7B63E92D5B0D</td>\n",
       "      <td>-56.000</td>\n",
       "      <td>742084271.574</td>\n",
       "    </tr>\n",
       "    <tr>\n",
       "      <th>3</th>\n",
       "      <td>Office</td>\n",
       "      <td>DB047FFD-D211-EDF3-345E-1FE933920DC2</td>\n",
       "      <td>-83.000</td>\n",
       "      <td>742084271.574</td>\n",
       "    </tr>\n",
       "    <tr>\n",
       "      <th>4</th>\n",
       "      <td>Office</td>\n",
       "      <td>AB8FA414-1C59-7DE7-F7EF-87C6CF2A303B</td>\n",
       "      <td>-79.000</td>\n",
       "      <td>742084271.579</td>\n",
       "    </tr>\n",
       "    <tr>\n",
       "      <th>...</th>\n",
       "      <td>...</td>\n",
       "      <td>...</td>\n",
       "      <td>...</td>\n",
       "      <td>...</td>\n",
       "    </tr>\n",
       "    <tr>\n",
       "      <th>3274</th>\n",
       "      <td>Bedroom</td>\n",
       "      <td>94CE6244-F55B-5A57-E0D3-400D3E564F48</td>\n",
       "      <td>-76.000</td>\n",
       "      <td>742084682.740</td>\n",
       "    </tr>\n",
       "    <tr>\n",
       "      <th>3275</th>\n",
       "      <td>Bedroom</td>\n",
       "      <td>94CE6244-F55B-5A57-E0D3-400D3E564F48</td>\n",
       "      <td>-75.000</td>\n",
       "      <td>742084682.750</td>\n",
       "    </tr>\n",
       "    <tr>\n",
       "      <th>3276</th>\n",
       "      <td>Bedroom</td>\n",
       "      <td>767B7B8B-5B66-F187-5E3F-2D91165B7273</td>\n",
       "      <td>-98.000</td>\n",
       "      <td>742084682.841</td>\n",
       "    </tr>\n",
       "    <tr>\n",
       "      <th>3277</th>\n",
       "      <td>Bedroom</td>\n",
       "      <td>94CE6244-F55B-5A57-E0D3-400D3E564F48</td>\n",
       "      <td>-72.000</td>\n",
       "      <td>742084683.010</td>\n",
       "    </tr>\n",
       "    <tr>\n",
       "      <th>3278</th>\n",
       "      <td>Bedroom</td>\n",
       "      <td>94CE6244-F55B-5A57-E0D3-400D3E564F48</td>\n",
       "      <td>-72.000</td>\n",
       "      <td>742084683.019</td>\n",
       "    </tr>\n",
       "  </tbody>\n",
       "</table>\n",
       "<p>3279 rows × 4 columns</p>\n",
       "</div>"
      ],
      "text/plain": [
       "         room                                    id    rssi          time\n",
       "0      Office  C89F2066-D85B-7A21-E292-A1735A30A295 -83.000 742084271.559\n",
       "1      Office  216D23F7-E6A1-7727-A3D5-91C76258F327 -59.000 742084271.566\n",
       "2      Office  11FE69C7-7DD2-13AF-1493-7B63E92D5B0D -56.000 742084271.574\n",
       "3      Office  DB047FFD-D211-EDF3-345E-1FE933920DC2 -83.000 742084271.574\n",
       "4      Office  AB8FA414-1C59-7DE7-F7EF-87C6CF2A303B -79.000 742084271.579\n",
       "...       ...                                   ...     ...           ...\n",
       "3274  Bedroom  94CE6244-F55B-5A57-E0D3-400D3E564F48 -76.000 742084682.740\n",
       "3275  Bedroom  94CE6244-F55B-5A57-E0D3-400D3E564F48 -75.000 742084682.750\n",
       "3276  Bedroom  767B7B8B-5B66-F187-5E3F-2D91165B7273 -98.000 742084682.841\n",
       "3277  Bedroom  94CE6244-F55B-5A57-E0D3-400D3E564F48 -72.000 742084683.010\n",
       "3278  Bedroom  94CE6244-F55B-5A57-E0D3-400D3E564F48 -72.000 742084683.019\n",
       "\n",
       "[3279 rows x 4 columns]"
      ]
     },
     "execution_count": 3,
     "metadata": {},
     "output_type": "execute_result"
    }
   ],
   "source": [
    "data = pd.read_csv(\"data/roomPredictionData2.csv\")\n",
    "data"
   ]
  },
  {
   "cell_type": "code",
   "execution_count": 4,
   "id": "3e8fbb243ffe139c",
   "metadata": {
    "ExecuteTime": {
     "end_time": "2024-07-11T21:55:46.359935Z",
     "start_time": "2024-07-11T21:55:46.356616Z"
    }
   },
   "outputs": [
    {
     "data": {
      "text/plain": [
       "array(['Office', 'Hallway', 'Kitchen', 'Living Room', 'Bedroom'],\n",
       "      dtype=object)"
      ]
     },
     "execution_count": 4,
     "metadata": {},
     "output_type": "execute_result"
    }
   ],
   "source": [
    "data.room.unique()"
   ]
  },
  {
   "cell_type": "code",
   "execution_count": null,
   "id": "acb348b5",
   "metadata": {},
   "outputs": [],
   "source": [
    "beacon_ids = [\n",
    "    \"6965680D-633E-BFB7-A5FA-548907D47ADC\"\n",
    "    \"D9DA2BE7-CF20-096C-1532-750D49104F9A\"\n",
    "    \"79837152-C559-6F7B-337D-3AF44C58BDF6\"\n",
    "    \"DC4C4B32-33B5-1BA3-9328-784549D963A9\"\n",
    "]\n",
    "\n"
   ]
  },
  {
   "cell_type": "markdown",
   "id": "2419f8a2e2b3b7ee",
   "metadata": {},
   "source": [
    "Below is converting the time to an arbitrary base. This will be used to group points / second to triangulate location. Each of these groups will be used as a data point to be passed through the model"
   ]
  },
  {
   "cell_type": "code",
   "execution_count": 5,
   "id": "c4c3a401105b731a",
   "metadata": {
    "ExecuteTime": {
     "end_time": "2024-07-11T21:55:46.747224Z",
     "start_time": "2024-07-11T21:55:46.742791Z"
    }
   },
   "outputs": [],
   "source": [
    "def custom_round(x, base=1):\n",
    "    return base * round(float(x)/base)\n",
    "\n",
    "data[\"time_rounded\"] = data[\"time\"].apply(lambda x: custom_round(x, base=.5))"
   ]
  },
  {
   "cell_type": "code",
   "execution_count": 6,
   "id": "5770a90bce138e42",
   "metadata": {
    "ExecuteTime": {
     "end_time": "2024-07-11T21:55:46.936087Z",
     "start_time": "2024-07-11T21:55:46.931867Z"
    }
   },
   "outputs": [
    {
     "data": {
      "text/plain": [
       "room               5\n",
       "id               237\n",
       "rssi              68\n",
       "time            3279\n",
       "time_rounded     811\n",
       "dtype: int64"
      ]
     },
     "execution_count": 6,
     "metadata": {},
     "output_type": "execute_result"
    }
   ],
   "source": [
    "data.nunique()\n"
   ]
  },
  {
   "cell_type": "markdown",
   "id": "aa6b798e9b8da2d1",
   "metadata": {},
   "source": [
    "For each group of rounded data, find duplicate points and compute the mean of the RSSI"
   ]
  },
  {
   "cell_type": "code",
   "execution_count": 7,
   "id": "2c530dfc8024ee28",
   "metadata": {
    "ExecuteTime": {
     "end_time": "2024-07-11T21:55:47.354252Z",
     "start_time": "2024-07-11T21:55:47.349285Z"
    }
   },
   "outputs": [],
   "source": [
    "deduped_data = data.groupby([\"time_rounded\",\"id\", \"room\"], as_index=False)[\"rssi\"].mean()"
   ]
  },
  {
   "cell_type": "markdown",
   "id": "4858cf3e24cc28e9",
   "metadata": {},
   "source": [
    "Re shape data in to columns as ID's and each row as the group above's RSSI values for the time frame"
   ]
  },
  {
   "cell_type": "code",
   "execution_count": 8,
   "id": "5b8a89027dee62a8",
   "metadata": {
    "ExecuteTime": {
     "end_time": "2024-07-11T21:55:47.736481Z",
     "start_time": "2024-07-11T21:55:47.733502Z"
    }
   },
   "outputs": [],
   "source": [
    "rooms = deduped_data[\"room\"].unique()\n",
    "room_labels = dict()\n",
    "label_rooms = dict()\n",
    "\n",
    "for i, room in enumerate(rooms):\n",
    "    room_labels[room] = i\n",
    "    label_rooms[i] = room"
   ]
  },
  {
   "cell_type": "code",
   "execution_count": 9,
   "id": "f0f3b14dd3702071",
   "metadata": {
    "ExecuteTime": {
     "end_time": "2024-07-11T21:55:48.363781Z",
     "start_time": "2024-07-11T21:55:47.938628Z"
    }
   },
   "outputs": [
    {
     "name": "stderr",
     "output_type": "stream",
     "text": [
      "/var/folders/jc/85vy06cn6b13gcm4rcvz9_fw0000gq/T/ipykernel_69682/1270200350.py:19: FutureWarning: The behavior of DataFrame concatenation with empty or all-NA entries is deprecated. In a future version, this will no longer exclude empty or all-NA columns when determining the result dtypes. To retain the old behavior, exclude the relevant entries before the concat operation.\n",
      "  new_data = new_data._append(\n"
     ]
    },
    {
     "data": {
      "text/html": [
       "<div>\n",
       "<style scoped>\n",
       "    .dataframe tbody tr th:only-of-type {\n",
       "        vertical-align: middle;\n",
       "    }\n",
       "\n",
       "    .dataframe tbody tr th {\n",
       "        vertical-align: top;\n",
       "    }\n",
       "\n",
       "    .dataframe thead th {\n",
       "        text-align: right;\n",
       "    }\n",
       "</style>\n",
       "<table border=\"1\" class=\"dataframe\">\n",
       "  <thead>\n",
       "    <tr style=\"text-align: right;\">\n",
       "      <th></th>\n",
       "      <th>room</th>\n",
       "      <th>11FE69C7-7DD2-13AF-1493-7B63E92D5B0D</th>\n",
       "      <th>1A1B6F87-2EF2-5298-771B-4105CAB1A5D4</th>\n",
       "      <th>216D23F7-E6A1-7727-A3D5-91C76258F327</th>\n",
       "      <th>767B7B8B-5B66-F187-5E3F-2D91165B7273</th>\n",
       "      <th>A37C1D23-92BB-B847-8018-C22651E46D48</th>\n",
       "      <th>AB8FA414-1C59-7DE7-F7EF-87C6CF2A303B</th>\n",
       "      <th>C89F2066-D85B-7A21-E292-A1735A30A295</th>\n",
       "      <th>DB047FFD-D211-EDF3-345E-1FE933920DC2</th>\n",
       "      <th>E834AAA0-5049-34E4-BFCA-2D38C282CC37</th>\n",
       "      <th>...</th>\n",
       "      <th>9AB58CB2-475D-7F24-F4F2-437580A26C36</th>\n",
       "      <th>F2E974F8-CF56-72D1-0752-65B159B83A6B</th>\n",
       "      <th>C8903AD9-3109-B6A7-1057-DF90EFAD7B0F</th>\n",
       "      <th>D45DF8DD-5F77-30FC-3638-E8D88316C386</th>\n",
       "      <th>0AD1657E-1A49-D3CF-9DC8-15EAA4752FBA</th>\n",
       "      <th>7A1BE164-7913-7278-169F-18F4E3ABE1C6</th>\n",
       "      <th>4E0F5991-CA35-5715-16CE-3E5B41A432A0</th>\n",
       "      <th>5FA58859-AB20-E90C-5D7D-4E2BDC9FA455</th>\n",
       "      <th>62279955-64BA-D757-8022-0B57D48FA230</th>\n",
       "      <th>7212A976-AD05-83D9-C3B5-9D5D972278FA</th>\n",
       "    </tr>\n",
       "  </thead>\n",
       "  <tbody>\n",
       "    <tr>\n",
       "      <th>0</th>\n",
       "      <td>0.000</td>\n",
       "      <td>0.440</td>\n",
       "      <td>0.190</td>\n",
       "      <td>0.410</td>\n",
       "      <td>0.200</td>\n",
       "      <td>0.390</td>\n",
       "      <td>0.210</td>\n",
       "      <td>0.170</td>\n",
       "      <td>0.170</td>\n",
       "      <td>0.150</td>\n",
       "      <td>...</td>\n",
       "      <td>0.000</td>\n",
       "      <td>0.000</td>\n",
       "      <td>0.000</td>\n",
       "      <td>0.000</td>\n",
       "      <td>0.000</td>\n",
       "      <td>0.000</td>\n",
       "      <td>0.000</td>\n",
       "      <td>0.000</td>\n",
       "      <td>0.000</td>\n",
       "      <td>0.000</td>\n",
       "    </tr>\n",
       "    <tr>\n",
       "      <th>1</th>\n",
       "      <td>0.000</td>\n",
       "      <td>0.000</td>\n",
       "      <td>0.000</td>\n",
       "      <td>0.000</td>\n",
       "      <td>0.000</td>\n",
       "      <td>0.000</td>\n",
       "      <td>0.000</td>\n",
       "      <td>0.000</td>\n",
       "      <td>0.000</td>\n",
       "      <td>0.000</td>\n",
       "      <td>...</td>\n",
       "      <td>0.000</td>\n",
       "      <td>0.000</td>\n",
       "      <td>0.000</td>\n",
       "      <td>0.000</td>\n",
       "      <td>0.000</td>\n",
       "      <td>0.000</td>\n",
       "      <td>0.000</td>\n",
       "      <td>0.000</td>\n",
       "      <td>0.000</td>\n",
       "      <td>0.000</td>\n",
       "    </tr>\n",
       "    <tr>\n",
       "      <th>2</th>\n",
       "      <td>0.000</td>\n",
       "      <td>0.000</td>\n",
       "      <td>0.000</td>\n",
       "      <td>0.000</td>\n",
       "      <td>0.150</td>\n",
       "      <td>0.000</td>\n",
       "      <td>0.000</td>\n",
       "      <td>0.000</td>\n",
       "      <td>0.000</td>\n",
       "      <td>0.000</td>\n",
       "      <td>...</td>\n",
       "      <td>0.000</td>\n",
       "      <td>0.000</td>\n",
       "      <td>0.000</td>\n",
       "      <td>0.000</td>\n",
       "      <td>0.000</td>\n",
       "      <td>0.000</td>\n",
       "      <td>0.000</td>\n",
       "      <td>0.000</td>\n",
       "      <td>0.000</td>\n",
       "      <td>0.000</td>\n",
       "    </tr>\n",
       "    <tr>\n",
       "      <th>3</th>\n",
       "      <td>0.000</td>\n",
       "      <td>0.000</td>\n",
       "      <td>0.000</td>\n",
       "      <td>0.000</td>\n",
       "      <td>0.000</td>\n",
       "      <td>0.400</td>\n",
       "      <td>0.000</td>\n",
       "      <td>0.000</td>\n",
       "      <td>0.000</td>\n",
       "      <td>0.000</td>\n",
       "      <td>...</td>\n",
       "      <td>0.000</td>\n",
       "      <td>0.000</td>\n",
       "      <td>0.000</td>\n",
       "      <td>0.000</td>\n",
       "      <td>0.000</td>\n",
       "      <td>0.000</td>\n",
       "      <td>0.000</td>\n",
       "      <td>0.000</td>\n",
       "      <td>0.000</td>\n",
       "      <td>0.000</td>\n",
       "    </tr>\n",
       "    <tr>\n",
       "      <th>4</th>\n",
       "      <td>0.000</td>\n",
       "      <td>0.000</td>\n",
       "      <td>0.000</td>\n",
       "      <td>0.000</td>\n",
       "      <td>0.090</td>\n",
       "      <td>0.000</td>\n",
       "      <td>0.000</td>\n",
       "      <td>0.000</td>\n",
       "      <td>0.000</td>\n",
       "      <td>0.000</td>\n",
       "      <td>...</td>\n",
       "      <td>0.000</td>\n",
       "      <td>0.000</td>\n",
       "      <td>0.000</td>\n",
       "      <td>0.000</td>\n",
       "      <td>0.000</td>\n",
       "      <td>0.000</td>\n",
       "      <td>0.000</td>\n",
       "      <td>0.000</td>\n",
       "      <td>0.000</td>\n",
       "      <td>0.000</td>\n",
       "    </tr>\n",
       "    <tr>\n",
       "      <th>...</th>\n",
       "      <td>...</td>\n",
       "      <td>...</td>\n",
       "      <td>...</td>\n",
       "      <td>...</td>\n",
       "      <td>...</td>\n",
       "      <td>...</td>\n",
       "      <td>...</td>\n",
       "      <td>...</td>\n",
       "      <td>...</td>\n",
       "      <td>...</td>\n",
       "      <td>...</td>\n",
       "      <td>...</td>\n",
       "      <td>...</td>\n",
       "      <td>...</td>\n",
       "      <td>...</td>\n",
       "      <td>...</td>\n",
       "      <td>...</td>\n",
       "      <td>...</td>\n",
       "      <td>...</td>\n",
       "      <td>...</td>\n",
       "      <td>...</td>\n",
       "    </tr>\n",
       "    <tr>\n",
       "      <th>806</th>\n",
       "      <td>0.000</td>\n",
       "      <td>0.000</td>\n",
       "      <td>0.000</td>\n",
       "      <td>0.000</td>\n",
       "      <td>0.000</td>\n",
       "      <td>0.000</td>\n",
       "      <td>0.000</td>\n",
       "      <td>0.000</td>\n",
       "      <td>0.000</td>\n",
       "      <td>0.000</td>\n",
       "      <td>...</td>\n",
       "      <td>0.000</td>\n",
       "      <td>0.000</td>\n",
       "      <td>0.000</td>\n",
       "      <td>0.000</td>\n",
       "      <td>0.000</td>\n",
       "      <td>0.000</td>\n",
       "      <td>0.000</td>\n",
       "      <td>0.000</td>\n",
       "      <td>0.000</td>\n",
       "      <td>0.000</td>\n",
       "    </tr>\n",
       "    <tr>\n",
       "      <th>807</th>\n",
       "      <td>0.000</td>\n",
       "      <td>0.000</td>\n",
       "      <td>0.000</td>\n",
       "      <td>0.000</td>\n",
       "      <td>0.000</td>\n",
       "      <td>0.000</td>\n",
       "      <td>0.000</td>\n",
       "      <td>0.000</td>\n",
       "      <td>0.000</td>\n",
       "      <td>0.000</td>\n",
       "      <td>...</td>\n",
       "      <td>0.000</td>\n",
       "      <td>0.000</td>\n",
       "      <td>0.000</td>\n",
       "      <td>0.000</td>\n",
       "      <td>0.000</td>\n",
       "      <td>0.000</td>\n",
       "      <td>0.000</td>\n",
       "      <td>0.000</td>\n",
       "      <td>0.000</td>\n",
       "      <td>0.000</td>\n",
       "    </tr>\n",
       "    <tr>\n",
       "      <th>808</th>\n",
       "      <td>0.000</td>\n",
       "      <td>0.000</td>\n",
       "      <td>0.000</td>\n",
       "      <td>0.000</td>\n",
       "      <td>0.110</td>\n",
       "      <td>0.000</td>\n",
       "      <td>0.000</td>\n",
       "      <td>0.000</td>\n",
       "      <td>0.000</td>\n",
       "      <td>0.000</td>\n",
       "      <td>...</td>\n",
       "      <td>0.000</td>\n",
       "      <td>0.000</td>\n",
       "      <td>0.000</td>\n",
       "      <td>0.000</td>\n",
       "      <td>0.000</td>\n",
       "      <td>0.000</td>\n",
       "      <td>0.000</td>\n",
       "      <td>0.000</td>\n",
       "      <td>0.000</td>\n",
       "      <td>0.000</td>\n",
       "    </tr>\n",
       "    <tr>\n",
       "      <th>809</th>\n",
       "      <td>0.000</td>\n",
       "      <td>0.000</td>\n",
       "      <td>0.000</td>\n",
       "      <td>0.000</td>\n",
       "      <td>0.000</td>\n",
       "      <td>0.000</td>\n",
       "      <td>0.000</td>\n",
       "      <td>0.000</td>\n",
       "      <td>0.000</td>\n",
       "      <td>0.000</td>\n",
       "      <td>...</td>\n",
       "      <td>0.000</td>\n",
       "      <td>0.000</td>\n",
       "      <td>0.000</td>\n",
       "      <td>0.000</td>\n",
       "      <td>0.000</td>\n",
       "      <td>0.000</td>\n",
       "      <td>0.000</td>\n",
       "      <td>0.000</td>\n",
       "      <td>0.000</td>\n",
       "      <td>0.000</td>\n",
       "    </tr>\n",
       "    <tr>\n",
       "      <th>810</th>\n",
       "      <td>0.000</td>\n",
       "      <td>0.000</td>\n",
       "      <td>0.000</td>\n",
       "      <td>0.000</td>\n",
       "      <td>0.000</td>\n",
       "      <td>0.000</td>\n",
       "      <td>0.000</td>\n",
       "      <td>0.000</td>\n",
       "      <td>0.000</td>\n",
       "      <td>0.000</td>\n",
       "      <td>...</td>\n",
       "      <td>0.000</td>\n",
       "      <td>0.000</td>\n",
       "      <td>0.000</td>\n",
       "      <td>0.000</td>\n",
       "      <td>0.000</td>\n",
       "      <td>0.000</td>\n",
       "      <td>0.000</td>\n",
       "      <td>0.000</td>\n",
       "      <td>0.000</td>\n",
       "      <td>0.000</td>\n",
       "    </tr>\n",
       "  </tbody>\n",
       "</table>\n",
       "<p>811 rows × 238 columns</p>\n",
       "</div>"
      ],
      "text/plain": [
       "     room  11FE69C7-7DD2-13AF-1493-7B63E92D5B0D  \\\n",
       "0   0.000                                 0.440   \n",
       "1   0.000                                 0.000   \n",
       "2   0.000                                 0.000   \n",
       "3   0.000                                 0.000   \n",
       "4   0.000                                 0.000   \n",
       "..    ...                                   ...   \n",
       "806 0.000                                 0.000   \n",
       "807 0.000                                 0.000   \n",
       "808 0.000                                 0.000   \n",
       "809 0.000                                 0.000   \n",
       "810 0.000                                 0.000   \n",
       "\n",
       "     1A1B6F87-2EF2-5298-771B-4105CAB1A5D4  \\\n",
       "0                                   0.190   \n",
       "1                                   0.000   \n",
       "2                                   0.000   \n",
       "3                                   0.000   \n",
       "4                                   0.000   \n",
       "..                                    ...   \n",
       "806                                 0.000   \n",
       "807                                 0.000   \n",
       "808                                 0.000   \n",
       "809                                 0.000   \n",
       "810                                 0.000   \n",
       "\n",
       "     216D23F7-E6A1-7727-A3D5-91C76258F327  \\\n",
       "0                                   0.410   \n",
       "1                                   0.000   \n",
       "2                                   0.000   \n",
       "3                                   0.000   \n",
       "4                                   0.000   \n",
       "..                                    ...   \n",
       "806                                 0.000   \n",
       "807                                 0.000   \n",
       "808                                 0.000   \n",
       "809                                 0.000   \n",
       "810                                 0.000   \n",
       "\n",
       "     767B7B8B-5B66-F187-5E3F-2D91165B7273  \\\n",
       "0                                   0.200   \n",
       "1                                   0.000   \n",
       "2                                   0.150   \n",
       "3                                   0.000   \n",
       "4                                   0.090   \n",
       "..                                    ...   \n",
       "806                                 0.000   \n",
       "807                                 0.000   \n",
       "808                                 0.110   \n",
       "809                                 0.000   \n",
       "810                                 0.000   \n",
       "\n",
       "     A37C1D23-92BB-B847-8018-C22651E46D48  \\\n",
       "0                                   0.390   \n",
       "1                                   0.000   \n",
       "2                                   0.000   \n",
       "3                                   0.400   \n",
       "4                                   0.000   \n",
       "..                                    ...   \n",
       "806                                 0.000   \n",
       "807                                 0.000   \n",
       "808                                 0.000   \n",
       "809                                 0.000   \n",
       "810                                 0.000   \n",
       "\n",
       "     AB8FA414-1C59-7DE7-F7EF-87C6CF2A303B  \\\n",
       "0                                   0.210   \n",
       "1                                   0.000   \n",
       "2                                   0.000   \n",
       "3                                   0.000   \n",
       "4                                   0.000   \n",
       "..                                    ...   \n",
       "806                                 0.000   \n",
       "807                                 0.000   \n",
       "808                                 0.000   \n",
       "809                                 0.000   \n",
       "810                                 0.000   \n",
       "\n",
       "     C89F2066-D85B-7A21-E292-A1735A30A295  \\\n",
       "0                                   0.170   \n",
       "1                                   0.000   \n",
       "2                                   0.000   \n",
       "3                                   0.000   \n",
       "4                                   0.000   \n",
       "..                                    ...   \n",
       "806                                 0.000   \n",
       "807                                 0.000   \n",
       "808                                 0.000   \n",
       "809                                 0.000   \n",
       "810                                 0.000   \n",
       "\n",
       "     DB047FFD-D211-EDF3-345E-1FE933920DC2  \\\n",
       "0                                   0.170   \n",
       "1                                   0.000   \n",
       "2                                   0.000   \n",
       "3                                   0.000   \n",
       "4                                   0.000   \n",
       "..                                    ...   \n",
       "806                                 0.000   \n",
       "807                                 0.000   \n",
       "808                                 0.000   \n",
       "809                                 0.000   \n",
       "810                                 0.000   \n",
       "\n",
       "     E834AAA0-5049-34E4-BFCA-2D38C282CC37  ...  \\\n",
       "0                                   0.150  ...   \n",
       "1                                   0.000  ...   \n",
       "2                                   0.000  ...   \n",
       "3                                   0.000  ...   \n",
       "4                                   0.000  ...   \n",
       "..                                    ...  ...   \n",
       "806                                 0.000  ...   \n",
       "807                                 0.000  ...   \n",
       "808                                 0.000  ...   \n",
       "809                                 0.000  ...   \n",
       "810                                 0.000  ...   \n",
       "\n",
       "     9AB58CB2-475D-7F24-F4F2-437580A26C36  \\\n",
       "0                                   0.000   \n",
       "1                                   0.000   \n",
       "2                                   0.000   \n",
       "3                                   0.000   \n",
       "4                                   0.000   \n",
       "..                                    ...   \n",
       "806                                 0.000   \n",
       "807                                 0.000   \n",
       "808                                 0.000   \n",
       "809                                 0.000   \n",
       "810                                 0.000   \n",
       "\n",
       "     F2E974F8-CF56-72D1-0752-65B159B83A6B  \\\n",
       "0                                   0.000   \n",
       "1                                   0.000   \n",
       "2                                   0.000   \n",
       "3                                   0.000   \n",
       "4                                   0.000   \n",
       "..                                    ...   \n",
       "806                                 0.000   \n",
       "807                                 0.000   \n",
       "808                                 0.000   \n",
       "809                                 0.000   \n",
       "810                                 0.000   \n",
       "\n",
       "     C8903AD9-3109-B6A7-1057-DF90EFAD7B0F  \\\n",
       "0                                   0.000   \n",
       "1                                   0.000   \n",
       "2                                   0.000   \n",
       "3                                   0.000   \n",
       "4                                   0.000   \n",
       "..                                    ...   \n",
       "806                                 0.000   \n",
       "807                                 0.000   \n",
       "808                                 0.000   \n",
       "809                                 0.000   \n",
       "810                                 0.000   \n",
       "\n",
       "     D45DF8DD-5F77-30FC-3638-E8D88316C386  \\\n",
       "0                                   0.000   \n",
       "1                                   0.000   \n",
       "2                                   0.000   \n",
       "3                                   0.000   \n",
       "4                                   0.000   \n",
       "..                                    ...   \n",
       "806                                 0.000   \n",
       "807                                 0.000   \n",
       "808                                 0.000   \n",
       "809                                 0.000   \n",
       "810                                 0.000   \n",
       "\n",
       "     0AD1657E-1A49-D3CF-9DC8-15EAA4752FBA  \\\n",
       "0                                   0.000   \n",
       "1                                   0.000   \n",
       "2                                   0.000   \n",
       "3                                   0.000   \n",
       "4                                   0.000   \n",
       "..                                    ...   \n",
       "806                                 0.000   \n",
       "807                                 0.000   \n",
       "808                                 0.000   \n",
       "809                                 0.000   \n",
       "810                                 0.000   \n",
       "\n",
       "     7A1BE164-7913-7278-169F-18F4E3ABE1C6  \\\n",
       "0                                   0.000   \n",
       "1                                   0.000   \n",
       "2                                   0.000   \n",
       "3                                   0.000   \n",
       "4                                   0.000   \n",
       "..                                    ...   \n",
       "806                                 0.000   \n",
       "807                                 0.000   \n",
       "808                                 0.000   \n",
       "809                                 0.000   \n",
       "810                                 0.000   \n",
       "\n",
       "     4E0F5991-CA35-5715-16CE-3E5B41A432A0  \\\n",
       "0                                   0.000   \n",
       "1                                   0.000   \n",
       "2                                   0.000   \n",
       "3                                   0.000   \n",
       "4                                   0.000   \n",
       "..                                    ...   \n",
       "806                                 0.000   \n",
       "807                                 0.000   \n",
       "808                                 0.000   \n",
       "809                                 0.000   \n",
       "810                                 0.000   \n",
       "\n",
       "     5FA58859-AB20-E90C-5D7D-4E2BDC9FA455  \\\n",
       "0                                   0.000   \n",
       "1                                   0.000   \n",
       "2                                   0.000   \n",
       "3                                   0.000   \n",
       "4                                   0.000   \n",
       "..                                    ...   \n",
       "806                                 0.000   \n",
       "807                                 0.000   \n",
       "808                                 0.000   \n",
       "809                                 0.000   \n",
       "810                                 0.000   \n",
       "\n",
       "     62279955-64BA-D757-8022-0B57D48FA230  \\\n",
       "0                                   0.000   \n",
       "1                                   0.000   \n",
       "2                                   0.000   \n",
       "3                                   0.000   \n",
       "4                                   0.000   \n",
       "..                                    ...   \n",
       "806                                 0.000   \n",
       "807                                 0.000   \n",
       "808                                 0.000   \n",
       "809                                 0.000   \n",
       "810                                 0.000   \n",
       "\n",
       "     7212A976-AD05-83D9-C3B5-9D5D972278FA  \n",
       "0                                   0.000  \n",
       "1                                   0.000  \n",
       "2                                   0.000  \n",
       "3                                   0.000  \n",
       "4                                   0.000  \n",
       "..                                    ...  \n",
       "806                                 0.000  \n",
       "807                                 0.000  \n",
       "808                                 0.000  \n",
       "809                                 0.000  \n",
       "810                                 0.000  \n",
       "\n",
       "[811 rows x 238 columns]"
      ]
     },
     "execution_count": 9,
     "metadata": {},
     "output_type": "execute_result"
    }
   ],
   "source": [
    "columns = np.append([\"room\"], deduped_data[\"id\"].unique())\n",
    "new_data = pd.DataFrame(columns=columns)\n",
    "\n",
    "for name, group in deduped_data.groupby(\"time_rounded\"):\n",
    "    if group[\"room\"].nunique() > 1:\n",
    "        print(f\"Skipping {name}\")\n",
    "    \n",
    "    row = dict()\n",
    "    row[\"room\"] = room_labels[group[\"room\"].unique()[0]] # Convert room to int for training\n",
    "    \n",
    "    for i, r in group.iterrows():\n",
    "        row[r[\"id\"]] = (r[\"rssi\"] + 100) / 100\n",
    "        \n",
    "    for c in columns:\n",
    "        # Set id's not found in this time as lowest value\n",
    "        if c not in row:\n",
    "            row[c] = 0\n",
    "            \n",
    "    new_data = new_data._append(\n",
    "        row,\n",
    "        ignore_index=True\n",
    "    )\n",
    "    \n",
    "new_data"
   ]
  },
  {
   "cell_type": "code",
   "execution_count": 10,
   "id": "328398c93bef3c81",
   "metadata": {
    "ExecuteTime": {
     "end_time": "2024-07-11T21:55:48.372460Z",
     "start_time": "2024-07-11T21:55:48.364819Z"
    }
   },
   "outputs": [
    {
     "data": {
      "text/html": [
       "<div>\n",
       "<style scoped>\n",
       "    .dataframe tbody tr th:only-of-type {\n",
       "        vertical-align: middle;\n",
       "    }\n",
       "\n",
       "    .dataframe tbody tr th {\n",
       "        vertical-align: top;\n",
       "    }\n",
       "\n",
       "    .dataframe thead th {\n",
       "        text-align: right;\n",
       "    }\n",
       "</style>\n",
       "<table border=\"1\" class=\"dataframe\">\n",
       "  <thead>\n",
       "    <tr style=\"text-align: right;\">\n",
       "      <th></th>\n",
       "      <th>room</th>\n",
       "      <th>11FE69C7-7DD2-13AF-1493-7B63E92D5B0D</th>\n",
       "      <th>1A1B6F87-2EF2-5298-771B-4105CAB1A5D4</th>\n",
       "      <th>216D23F7-E6A1-7727-A3D5-91C76258F327</th>\n",
       "      <th>767B7B8B-5B66-F187-5E3F-2D91165B7273</th>\n",
       "      <th>A37C1D23-92BB-B847-8018-C22651E46D48</th>\n",
       "      <th>AB8FA414-1C59-7DE7-F7EF-87C6CF2A303B</th>\n",
       "      <th>C89F2066-D85B-7A21-E292-A1735A30A295</th>\n",
       "      <th>DB047FFD-D211-EDF3-345E-1FE933920DC2</th>\n",
       "      <th>E834AAA0-5049-34E4-BFCA-2D38C282CC37</th>\n",
       "      <th>...</th>\n",
       "      <th>9AB58CB2-475D-7F24-F4F2-437580A26C36</th>\n",
       "      <th>F2E974F8-CF56-72D1-0752-65B159B83A6B</th>\n",
       "      <th>C8903AD9-3109-B6A7-1057-DF90EFAD7B0F</th>\n",
       "      <th>D45DF8DD-5F77-30FC-3638-E8D88316C386</th>\n",
       "      <th>0AD1657E-1A49-D3CF-9DC8-15EAA4752FBA</th>\n",
       "      <th>7A1BE164-7913-7278-169F-18F4E3ABE1C6</th>\n",
       "      <th>4E0F5991-CA35-5715-16CE-3E5B41A432A0</th>\n",
       "      <th>5FA58859-AB20-E90C-5D7D-4E2BDC9FA455</th>\n",
       "      <th>62279955-64BA-D757-8022-0B57D48FA230</th>\n",
       "      <th>7212A976-AD05-83D9-C3B5-9D5D972278FA</th>\n",
       "    </tr>\n",
       "  </thead>\n",
       "  <tbody>\n",
       "    <tr>\n",
       "      <th>0</th>\n",
       "      <td>0.000</td>\n",
       "      <td>0.440</td>\n",
       "      <td>0.190</td>\n",
       "      <td>0.410</td>\n",
       "      <td>0.200</td>\n",
       "      <td>0.390</td>\n",
       "      <td>0.210</td>\n",
       "      <td>0.170</td>\n",
       "      <td>0.170</td>\n",
       "      <td>0.150</td>\n",
       "      <td>...</td>\n",
       "      <td>0.000</td>\n",
       "      <td>0.000</td>\n",
       "      <td>0.000</td>\n",
       "      <td>0.000</td>\n",
       "      <td>0.000</td>\n",
       "      <td>0.000</td>\n",
       "      <td>0.000</td>\n",
       "      <td>0.000</td>\n",
       "      <td>0.000</td>\n",
       "      <td>0.000</td>\n",
       "    </tr>\n",
       "    <tr>\n",
       "      <th>1</th>\n",
       "      <td>0.000</td>\n",
       "      <td>0.000</td>\n",
       "      <td>0.000</td>\n",
       "      <td>0.000</td>\n",
       "      <td>0.000</td>\n",
       "      <td>0.000</td>\n",
       "      <td>0.000</td>\n",
       "      <td>0.000</td>\n",
       "      <td>0.000</td>\n",
       "      <td>0.000</td>\n",
       "      <td>...</td>\n",
       "      <td>0.000</td>\n",
       "      <td>0.000</td>\n",
       "      <td>0.000</td>\n",
       "      <td>0.000</td>\n",
       "      <td>0.000</td>\n",
       "      <td>0.000</td>\n",
       "      <td>0.000</td>\n",
       "      <td>0.000</td>\n",
       "      <td>0.000</td>\n",
       "      <td>0.000</td>\n",
       "    </tr>\n",
       "    <tr>\n",
       "      <th>2</th>\n",
       "      <td>0.000</td>\n",
       "      <td>0.000</td>\n",
       "      <td>0.000</td>\n",
       "      <td>0.000</td>\n",
       "      <td>0.150</td>\n",
       "      <td>0.000</td>\n",
       "      <td>0.000</td>\n",
       "      <td>0.000</td>\n",
       "      <td>0.000</td>\n",
       "      <td>0.000</td>\n",
       "      <td>...</td>\n",
       "      <td>0.000</td>\n",
       "      <td>0.000</td>\n",
       "      <td>0.000</td>\n",
       "      <td>0.000</td>\n",
       "      <td>0.000</td>\n",
       "      <td>0.000</td>\n",
       "      <td>0.000</td>\n",
       "      <td>0.000</td>\n",
       "      <td>0.000</td>\n",
       "      <td>0.000</td>\n",
       "    </tr>\n",
       "    <tr>\n",
       "      <th>3</th>\n",
       "      <td>0.000</td>\n",
       "      <td>0.000</td>\n",
       "      <td>0.000</td>\n",
       "      <td>0.000</td>\n",
       "      <td>0.000</td>\n",
       "      <td>0.400</td>\n",
       "      <td>0.000</td>\n",
       "      <td>0.000</td>\n",
       "      <td>0.000</td>\n",
       "      <td>0.000</td>\n",
       "      <td>...</td>\n",
       "      <td>0.000</td>\n",
       "      <td>0.000</td>\n",
       "      <td>0.000</td>\n",
       "      <td>0.000</td>\n",
       "      <td>0.000</td>\n",
       "      <td>0.000</td>\n",
       "      <td>0.000</td>\n",
       "      <td>0.000</td>\n",
       "      <td>0.000</td>\n",
       "      <td>0.000</td>\n",
       "    </tr>\n",
       "    <tr>\n",
       "      <th>4</th>\n",
       "      <td>0.000</td>\n",
       "      <td>0.000</td>\n",
       "      <td>0.000</td>\n",
       "      <td>0.000</td>\n",
       "      <td>0.090</td>\n",
       "      <td>0.000</td>\n",
       "      <td>0.000</td>\n",
       "      <td>0.000</td>\n",
       "      <td>0.000</td>\n",
       "      <td>0.000</td>\n",
       "      <td>...</td>\n",
       "      <td>0.000</td>\n",
       "      <td>0.000</td>\n",
       "      <td>0.000</td>\n",
       "      <td>0.000</td>\n",
       "      <td>0.000</td>\n",
       "      <td>0.000</td>\n",
       "      <td>0.000</td>\n",
       "      <td>0.000</td>\n",
       "      <td>0.000</td>\n",
       "      <td>0.000</td>\n",
       "    </tr>\n",
       "    <tr>\n",
       "      <th>...</th>\n",
       "      <td>...</td>\n",
       "      <td>...</td>\n",
       "      <td>...</td>\n",
       "      <td>...</td>\n",
       "      <td>...</td>\n",
       "      <td>...</td>\n",
       "      <td>...</td>\n",
       "      <td>...</td>\n",
       "      <td>...</td>\n",
       "      <td>...</td>\n",
       "      <td>...</td>\n",
       "      <td>...</td>\n",
       "      <td>...</td>\n",
       "      <td>...</td>\n",
       "      <td>...</td>\n",
       "      <td>...</td>\n",
       "      <td>...</td>\n",
       "      <td>...</td>\n",
       "      <td>...</td>\n",
       "      <td>...</td>\n",
       "      <td>...</td>\n",
       "    </tr>\n",
       "    <tr>\n",
       "      <th>806</th>\n",
       "      <td>0.000</td>\n",
       "      <td>0.000</td>\n",
       "      <td>0.000</td>\n",
       "      <td>0.000</td>\n",
       "      <td>0.000</td>\n",
       "      <td>0.000</td>\n",
       "      <td>0.000</td>\n",
       "      <td>0.000</td>\n",
       "      <td>0.000</td>\n",
       "      <td>0.000</td>\n",
       "      <td>...</td>\n",
       "      <td>0.000</td>\n",
       "      <td>0.000</td>\n",
       "      <td>0.000</td>\n",
       "      <td>0.000</td>\n",
       "      <td>0.000</td>\n",
       "      <td>0.000</td>\n",
       "      <td>0.000</td>\n",
       "      <td>0.000</td>\n",
       "      <td>0.000</td>\n",
       "      <td>0.000</td>\n",
       "    </tr>\n",
       "    <tr>\n",
       "      <th>807</th>\n",
       "      <td>0.000</td>\n",
       "      <td>0.000</td>\n",
       "      <td>0.000</td>\n",
       "      <td>0.000</td>\n",
       "      <td>0.000</td>\n",
       "      <td>0.000</td>\n",
       "      <td>0.000</td>\n",
       "      <td>0.000</td>\n",
       "      <td>0.000</td>\n",
       "      <td>0.000</td>\n",
       "      <td>...</td>\n",
       "      <td>0.000</td>\n",
       "      <td>0.000</td>\n",
       "      <td>0.000</td>\n",
       "      <td>0.000</td>\n",
       "      <td>0.000</td>\n",
       "      <td>0.000</td>\n",
       "      <td>0.000</td>\n",
       "      <td>0.000</td>\n",
       "      <td>0.000</td>\n",
       "      <td>0.000</td>\n",
       "    </tr>\n",
       "    <tr>\n",
       "      <th>808</th>\n",
       "      <td>0.000</td>\n",
       "      <td>0.000</td>\n",
       "      <td>0.000</td>\n",
       "      <td>0.000</td>\n",
       "      <td>0.110</td>\n",
       "      <td>0.000</td>\n",
       "      <td>0.000</td>\n",
       "      <td>0.000</td>\n",
       "      <td>0.000</td>\n",
       "      <td>0.000</td>\n",
       "      <td>...</td>\n",
       "      <td>0.000</td>\n",
       "      <td>0.000</td>\n",
       "      <td>0.000</td>\n",
       "      <td>0.000</td>\n",
       "      <td>0.000</td>\n",
       "      <td>0.000</td>\n",
       "      <td>0.000</td>\n",
       "      <td>0.000</td>\n",
       "      <td>0.000</td>\n",
       "      <td>0.000</td>\n",
       "    </tr>\n",
       "    <tr>\n",
       "      <th>809</th>\n",
       "      <td>0.000</td>\n",
       "      <td>0.000</td>\n",
       "      <td>0.000</td>\n",
       "      <td>0.000</td>\n",
       "      <td>0.000</td>\n",
       "      <td>0.000</td>\n",
       "      <td>0.000</td>\n",
       "      <td>0.000</td>\n",
       "      <td>0.000</td>\n",
       "      <td>0.000</td>\n",
       "      <td>...</td>\n",
       "      <td>0.000</td>\n",
       "      <td>0.000</td>\n",
       "      <td>0.000</td>\n",
       "      <td>0.000</td>\n",
       "      <td>0.000</td>\n",
       "      <td>0.000</td>\n",
       "      <td>0.000</td>\n",
       "      <td>0.000</td>\n",
       "      <td>0.000</td>\n",
       "      <td>0.000</td>\n",
       "    </tr>\n",
       "    <tr>\n",
       "      <th>810</th>\n",
       "      <td>0.000</td>\n",
       "      <td>0.000</td>\n",
       "      <td>0.000</td>\n",
       "      <td>0.000</td>\n",
       "      <td>0.000</td>\n",
       "      <td>0.000</td>\n",
       "      <td>0.000</td>\n",
       "      <td>0.000</td>\n",
       "      <td>0.000</td>\n",
       "      <td>0.000</td>\n",
       "      <td>...</td>\n",
       "      <td>0.000</td>\n",
       "      <td>0.000</td>\n",
       "      <td>0.000</td>\n",
       "      <td>0.000</td>\n",
       "      <td>0.000</td>\n",
       "      <td>0.000</td>\n",
       "      <td>0.000</td>\n",
       "      <td>0.000</td>\n",
       "      <td>0.000</td>\n",
       "      <td>0.000</td>\n",
       "    </tr>\n",
       "  </tbody>\n",
       "</table>\n",
       "<p>811 rows × 238 columns</p>\n",
       "</div>"
      ],
      "text/plain": [
       "     room  11FE69C7-7DD2-13AF-1493-7B63E92D5B0D  \\\n",
       "0   0.000                                 0.440   \n",
       "1   0.000                                 0.000   \n",
       "2   0.000                                 0.000   \n",
       "3   0.000                                 0.000   \n",
       "4   0.000                                 0.000   \n",
       "..    ...                                   ...   \n",
       "806 0.000                                 0.000   \n",
       "807 0.000                                 0.000   \n",
       "808 0.000                                 0.000   \n",
       "809 0.000                                 0.000   \n",
       "810 0.000                                 0.000   \n",
       "\n",
       "     1A1B6F87-2EF2-5298-771B-4105CAB1A5D4  \\\n",
       "0                                   0.190   \n",
       "1                                   0.000   \n",
       "2                                   0.000   \n",
       "3                                   0.000   \n",
       "4                                   0.000   \n",
       "..                                    ...   \n",
       "806                                 0.000   \n",
       "807                                 0.000   \n",
       "808                                 0.000   \n",
       "809                                 0.000   \n",
       "810                                 0.000   \n",
       "\n",
       "     216D23F7-E6A1-7727-A3D5-91C76258F327  \\\n",
       "0                                   0.410   \n",
       "1                                   0.000   \n",
       "2                                   0.000   \n",
       "3                                   0.000   \n",
       "4                                   0.000   \n",
       "..                                    ...   \n",
       "806                                 0.000   \n",
       "807                                 0.000   \n",
       "808                                 0.000   \n",
       "809                                 0.000   \n",
       "810                                 0.000   \n",
       "\n",
       "     767B7B8B-5B66-F187-5E3F-2D91165B7273  \\\n",
       "0                                   0.200   \n",
       "1                                   0.000   \n",
       "2                                   0.150   \n",
       "3                                   0.000   \n",
       "4                                   0.090   \n",
       "..                                    ...   \n",
       "806                                 0.000   \n",
       "807                                 0.000   \n",
       "808                                 0.110   \n",
       "809                                 0.000   \n",
       "810                                 0.000   \n",
       "\n",
       "     A37C1D23-92BB-B847-8018-C22651E46D48  \\\n",
       "0                                   0.390   \n",
       "1                                   0.000   \n",
       "2                                   0.000   \n",
       "3                                   0.400   \n",
       "4                                   0.000   \n",
       "..                                    ...   \n",
       "806                                 0.000   \n",
       "807                                 0.000   \n",
       "808                                 0.000   \n",
       "809                                 0.000   \n",
       "810                                 0.000   \n",
       "\n",
       "     AB8FA414-1C59-7DE7-F7EF-87C6CF2A303B  \\\n",
       "0                                   0.210   \n",
       "1                                   0.000   \n",
       "2                                   0.000   \n",
       "3                                   0.000   \n",
       "4                                   0.000   \n",
       "..                                    ...   \n",
       "806                                 0.000   \n",
       "807                                 0.000   \n",
       "808                                 0.000   \n",
       "809                                 0.000   \n",
       "810                                 0.000   \n",
       "\n",
       "     C89F2066-D85B-7A21-E292-A1735A30A295  \\\n",
       "0                                   0.170   \n",
       "1                                   0.000   \n",
       "2                                   0.000   \n",
       "3                                   0.000   \n",
       "4                                   0.000   \n",
       "..                                    ...   \n",
       "806                                 0.000   \n",
       "807                                 0.000   \n",
       "808                                 0.000   \n",
       "809                                 0.000   \n",
       "810                                 0.000   \n",
       "\n",
       "     DB047FFD-D211-EDF3-345E-1FE933920DC2  \\\n",
       "0                                   0.170   \n",
       "1                                   0.000   \n",
       "2                                   0.000   \n",
       "3                                   0.000   \n",
       "4                                   0.000   \n",
       "..                                    ...   \n",
       "806                                 0.000   \n",
       "807                                 0.000   \n",
       "808                                 0.000   \n",
       "809                                 0.000   \n",
       "810                                 0.000   \n",
       "\n",
       "     E834AAA0-5049-34E4-BFCA-2D38C282CC37  ...  \\\n",
       "0                                   0.150  ...   \n",
       "1                                   0.000  ...   \n",
       "2                                   0.000  ...   \n",
       "3                                   0.000  ...   \n",
       "4                                   0.000  ...   \n",
       "..                                    ...  ...   \n",
       "806                                 0.000  ...   \n",
       "807                                 0.000  ...   \n",
       "808                                 0.000  ...   \n",
       "809                                 0.000  ...   \n",
       "810                                 0.000  ...   \n",
       "\n",
       "     9AB58CB2-475D-7F24-F4F2-437580A26C36  \\\n",
       "0                                   0.000   \n",
       "1                                   0.000   \n",
       "2                                   0.000   \n",
       "3                                   0.000   \n",
       "4                                   0.000   \n",
       "..                                    ...   \n",
       "806                                 0.000   \n",
       "807                                 0.000   \n",
       "808                                 0.000   \n",
       "809                                 0.000   \n",
       "810                                 0.000   \n",
       "\n",
       "     F2E974F8-CF56-72D1-0752-65B159B83A6B  \\\n",
       "0                                   0.000   \n",
       "1                                   0.000   \n",
       "2                                   0.000   \n",
       "3                                   0.000   \n",
       "4                                   0.000   \n",
       "..                                    ...   \n",
       "806                                 0.000   \n",
       "807                                 0.000   \n",
       "808                                 0.000   \n",
       "809                                 0.000   \n",
       "810                                 0.000   \n",
       "\n",
       "     C8903AD9-3109-B6A7-1057-DF90EFAD7B0F  \\\n",
       "0                                   0.000   \n",
       "1                                   0.000   \n",
       "2                                   0.000   \n",
       "3                                   0.000   \n",
       "4                                   0.000   \n",
       "..                                    ...   \n",
       "806                                 0.000   \n",
       "807                                 0.000   \n",
       "808                                 0.000   \n",
       "809                                 0.000   \n",
       "810                                 0.000   \n",
       "\n",
       "     D45DF8DD-5F77-30FC-3638-E8D88316C386  \\\n",
       "0                                   0.000   \n",
       "1                                   0.000   \n",
       "2                                   0.000   \n",
       "3                                   0.000   \n",
       "4                                   0.000   \n",
       "..                                    ...   \n",
       "806                                 0.000   \n",
       "807                                 0.000   \n",
       "808                                 0.000   \n",
       "809                                 0.000   \n",
       "810                                 0.000   \n",
       "\n",
       "     0AD1657E-1A49-D3CF-9DC8-15EAA4752FBA  \\\n",
       "0                                   0.000   \n",
       "1                                   0.000   \n",
       "2                                   0.000   \n",
       "3                                   0.000   \n",
       "4                                   0.000   \n",
       "..                                    ...   \n",
       "806                                 0.000   \n",
       "807                                 0.000   \n",
       "808                                 0.000   \n",
       "809                                 0.000   \n",
       "810                                 0.000   \n",
       "\n",
       "     7A1BE164-7913-7278-169F-18F4E3ABE1C6  \\\n",
       "0                                   0.000   \n",
       "1                                   0.000   \n",
       "2                                   0.000   \n",
       "3                                   0.000   \n",
       "4                                   0.000   \n",
       "..                                    ...   \n",
       "806                                 0.000   \n",
       "807                                 0.000   \n",
       "808                                 0.000   \n",
       "809                                 0.000   \n",
       "810                                 0.000   \n",
       "\n",
       "     4E0F5991-CA35-5715-16CE-3E5B41A432A0  \\\n",
       "0                                   0.000   \n",
       "1                                   0.000   \n",
       "2                                   0.000   \n",
       "3                                   0.000   \n",
       "4                                   0.000   \n",
       "..                                    ...   \n",
       "806                                 0.000   \n",
       "807                                 0.000   \n",
       "808                                 0.000   \n",
       "809                                 0.000   \n",
       "810                                 0.000   \n",
       "\n",
       "     5FA58859-AB20-E90C-5D7D-4E2BDC9FA455  \\\n",
       "0                                   0.000   \n",
       "1                                   0.000   \n",
       "2                                   0.000   \n",
       "3                                   0.000   \n",
       "4                                   0.000   \n",
       "..                                    ...   \n",
       "806                                 0.000   \n",
       "807                                 0.000   \n",
       "808                                 0.000   \n",
       "809                                 0.000   \n",
       "810                                 0.000   \n",
       "\n",
       "     62279955-64BA-D757-8022-0B57D48FA230  \\\n",
       "0                                   0.000   \n",
       "1                                   0.000   \n",
       "2                                   0.000   \n",
       "3                                   0.000   \n",
       "4                                   0.000   \n",
       "..                                    ...   \n",
       "806                                 0.000   \n",
       "807                                 0.000   \n",
       "808                                 0.000   \n",
       "809                                 0.000   \n",
       "810                                 0.000   \n",
       "\n",
       "     7212A976-AD05-83D9-C3B5-9D5D972278FA  \n",
       "0                                   0.000  \n",
       "1                                   0.000  \n",
       "2                                   0.000  \n",
       "3                                   0.000  \n",
       "4                                   0.000  \n",
       "..                                    ...  \n",
       "806                                 0.000  \n",
       "807                                 0.000  \n",
       "808                                 0.000  \n",
       "809                                 0.000  \n",
       "810                                 0.000  \n",
       "\n",
       "[811 rows x 238 columns]"
      ]
     },
     "execution_count": 10,
     "metadata": {},
     "output_type": "execute_result"
    }
   ],
   "source": [
    "new_data"
   ]
  },
  {
   "cell_type": "markdown",
   "id": "af9d9ca1186dc252",
   "metadata": {},
   "source": [
    "# Base Class\n",
    "\n",
    "https://towardsdatascience.com/from-pytorch-to-pytorch-lightning-a-gentle-introduction-b371b7caaf09\n",
    "\n",
    "https://lightning.ai/docs/torchmetrics/stable//index.html\n",
    "Would replace Trainer from scratch \n",
    "\n",
    "\n",
    "Also install tensorboard for viewing experiments\n"
   ]
  },
  {
   "cell_type": "code",
   "execution_count": 1,
   "id": "3f45fc68e887bc83",
   "metadata": {
    "ExecuteTime": {
     "end_time": "2024-07-12T18:33:12.891231Z",
     "start_time": "2024-07-12T18:33:12.483396Z"
    }
   },
   "outputs": [
    {
     "ename": "ModuleNotFoundError",
     "evalue": "No module named 'scripts'",
     "output_type": "error",
     "traceback": [
      "\u001b[0;31m---------------------------------------------------------------------------\u001b[0m",
      "\u001b[0;31mModuleNotFoundError\u001b[0m                       Traceback (most recent call last)",
      "Cell \u001b[0;32mIn[1], line 1\u001b[0m\n\u001b[0;32m----> 1\u001b[0m \u001b[38;5;28;01mfrom\u001b[39;00m \u001b[38;5;21;01mscripts\u001b[39;00m\u001b[38;5;21;01m.\u001b[39;00m\u001b[38;5;21;01mshared_utilities\u001b[39;00m \u001b[38;5;28;01mimport\u001b[39;00m \u001b[38;5;241m*\u001b[39m\n\u001b[1;32m      3\u001b[0m data_module \u001b[38;5;241m=\u001b[39m RoomPredictorDataModule(\u001b[38;5;124m\"\u001b[39m\u001b[38;5;124mroomPredictionData2.csv\u001b[39m\u001b[38;5;124m\"\u001b[39m, [\u001b[38;5;241m.9\u001b[39m, \u001b[38;5;241m.05\u001b[39m, \u001b[38;5;241m.05\u001b[39m], \u001b[38;5;241m8\u001b[39m, \u001b[38;5;241m9\u001b[39m, \u001b[38;5;124m\"\u001b[39m\u001b[38;5;124mdata\u001b[39m\u001b[38;5;124m\"\u001b[39m)\n\u001b[1;32m      5\u001b[0m data_module\u001b[38;5;241m.\u001b[39mprepare_data()\n",
      "\u001b[0;31mModuleNotFoundError\u001b[0m: No module named 'scripts'"
     ]
    }
   ],
   "source": [
    "from scripts.shared_utilities import *\n",
    "\n",
    "data_module = RoomPredictorDataModule(\"roomPredictionData2.csv\", [.9, .05, .05], 8, 9, \"data\")\n",
    "\n",
    "data_module.prepare_data()\n",
    "data_module.setup(\"test\")\n",
    "\n",
    "input: torch.Tensor = data_module.train_dataloader().dataset[0]\n",
    "\n",
    "input[0].size()"
   ]
  },
  {
   "cell_type": "markdown",
   "id": "a4200541cc7103a9",
   "metadata": {},
   "source": [
    "# Training"
   ]
  },
  {
   "cell_type": "code",
   "execution_count": 19,
   "id": "682bcad662f8f374",
   "metadata": {
    "ExecuteTime": {
     "end_time": "2024-07-11T22:19:07.000168Z",
     "start_time": "2024-07-11T22:16:46.961449Z"
    }
   },
   "outputs": [
    {
     "name": "stderr",
     "output_type": "stream",
     "text": [
      "Trainer already configured with model summary callbacks: [<class 'lightning.pytorch.callbacks.model_summary.ModelSummary'>]. Skipping setting a default `ModelSummary` callback.\n",
      "GPU available: True (mps), used: True\n",
      "TPU available: False, using: 0 TPU cores\n",
      "HPU available: False, using: 0 HPUs\n",
      "/opt/homebrew/Caskroom/miniforge/base/envs/RoomPredictor/lib/python3.10/site-packages/torch/nn/modules/lazy.py:181: UserWarning: Lazy modules are a new feature under heavy development so changes to the API or functionality can happen at any moment.\n",
      "  warnings.warn('Lazy modules are a new feature under heavy development '\n",
      "\n",
      "  | Name    | Type             | Params | Mode \n",
      "-----------------------------------------------------\n",
      "0 | model   | Sequential       | 0      | train\n",
      "1 | model.0 | LazyLinear       | 0      | train\n",
      "2 | model.1 | ReLU             | 0      | train\n",
      "3 | model.2 | Dropout          | 0      | train\n",
      "4 | model.3 | LazyLinear       | 0      | train\n",
      "5 | loss    | CrossEntropyLoss | 0      | train\n",
      "-----------------------------------------------------\n",
      "0         Trainable params\n",
      "0         Non-trainable params\n",
      "0         Total params\n",
      "0.000     Total estimated model params size (MB)\n"
     ]
    },
    {
     "data": {
      "application/vnd.jupyter.widget-view+json": {
       "model_id": "75308b1001b94d6b9f514312b65c3690",
       "version_major": 2,
       "version_minor": 0
      },
      "text/plain": [
       "Sanity Checking: |          | 0/? [00:00<?, ?it/s]"
      ]
     },
     "metadata": {},
     "output_type": "display_data"
    },
    {
     "name": "stderr",
     "output_type": "stream",
     "text": [
      "/opt/homebrew/Caskroom/miniforge/base/envs/RoomPredictor/lib/python3.10/site-packages/lightning/pytorch/trainer/connectors/data_connector.py:424: The 'val_dataloader' does not have many workers which may be a bottleneck. Consider increasing the value of the `num_workers` argument` to `num_workers=9` in the `DataLoader` to improve performance.\n",
      "/opt/homebrew/Caskroom/miniforge/base/envs/RoomPredictor/lib/python3.10/site-packages/lightning/pytorch/trainer/connectors/data_connector.py:424: The 'train_dataloader' does not have many workers which may be a bottleneck. Consider increasing the value of the `num_workers` argument` to `num_workers=9` in the `DataLoader` to improve performance.\n"
     ]
    },
    {
     "data": {
      "application/vnd.jupyter.widget-view+json": {
       "model_id": "0566d485848d44f2af45b57b6533b7e5",
       "version_major": 2,
       "version_minor": 0
      },
      "text/plain": [
       "Training: |          | 0/? [00:00<?, ?it/s]"
      ]
     },
     "metadata": {},
     "output_type": "display_data"
    },
    {
     "data": {
      "application/vnd.jupyter.widget-view+json": {
       "model_id": "85f9c3760679454ca99287f34d13d88f",
       "version_major": 2,
       "version_minor": 0
      },
      "text/plain": [
       "Validation: |          | 0/? [00:00<?, ?it/s]"
      ]
     },
     "metadata": {},
     "output_type": "display_data"
    },
    {
     "data": {
      "application/vnd.jupyter.widget-view+json": {
       "model_id": "71410e7ad1084dc0afe395d4127c9a67",
       "version_major": 2,
       "version_minor": 0
      },
      "text/plain": [
       "Validation: |          | 0/? [00:00<?, ?it/s]"
      ]
     },
     "metadata": {},
     "output_type": "display_data"
    },
    {
     "data": {
      "application/vnd.jupyter.widget-view+json": {
       "model_id": "f306feac58e54360902f8397852807d2",
       "version_major": 2,
       "version_minor": 0
      },
      "text/plain": [
       "Validation: |          | 0/? [00:00<?, ?it/s]"
      ]
     },
     "metadata": {},
     "output_type": "display_data"
    },
    {
     "data": {
      "application/vnd.jupyter.widget-view+json": {
       "model_id": "ae93bb83d7c64201b15ab4127729f799",
       "version_major": 2,
       "version_minor": 0
      },
      "text/plain": [
       "Validation: |          | 0/? [00:00<?, ?it/s]"
      ]
     },
     "metadata": {},
     "output_type": "display_data"
    },
    {
     "data": {
      "application/vnd.jupyter.widget-view+json": {
       "model_id": "99907b4bb04c4f46aeaaa5d6d17fdd22",
       "version_major": 2,
       "version_minor": 0
      },
      "text/plain": [
       "Validation: |          | 0/? [00:00<?, ?it/s]"
      ]
     },
     "metadata": {},
     "output_type": "display_data"
    },
    {
     "data": {
      "application/vnd.jupyter.widget-view+json": {
       "model_id": "a20ae4fb1bf040e7af10f73a1c6d1ed5",
       "version_major": 2,
       "version_minor": 0
      },
      "text/plain": [
       "Validation: |          | 0/? [00:00<?, ?it/s]"
      ]
     },
     "metadata": {},
     "output_type": "display_data"
    },
    {
     "data": {
      "application/vnd.jupyter.widget-view+json": {
       "model_id": "f5b348079d214fc0afd35f0dcbf8fab1",
       "version_major": 2,
       "version_minor": 0
      },
      "text/plain": [
       "Validation: |          | 0/? [00:00<?, ?it/s]"
      ]
     },
     "metadata": {},
     "output_type": "display_data"
    },
    {
     "data": {
      "application/vnd.jupyter.widget-view+json": {
       "model_id": "15b9167a083148fba465e691d81f80e7",
       "version_major": 2,
       "version_minor": 0
      },
      "text/plain": [
       "Validation: |          | 0/? [00:00<?, ?it/s]"
      ]
     },
     "metadata": {},
     "output_type": "display_data"
    },
    {
     "data": {
      "application/vnd.jupyter.widget-view+json": {
       "model_id": "b35c2620bc7844b091490bd9483922bb",
       "version_major": 2,
       "version_minor": 0
      },
      "text/plain": [
       "Validation: |          | 0/? [00:00<?, ?it/s]"
      ]
     },
     "metadata": {},
     "output_type": "display_data"
    },
    {
     "data": {
      "application/vnd.jupyter.widget-view+json": {
       "model_id": "06af7e32fd5842908a5d558137ec9c47",
       "version_major": 2,
       "version_minor": 0
      },
      "text/plain": [
       "Validation: |          | 0/? [00:00<?, ?it/s]"
      ]
     },
     "metadata": {},
     "output_type": "display_data"
    },
    {
     "data": {
      "application/vnd.jupyter.widget-view+json": {
       "model_id": "773777385daa42f0848f8f8715df593b",
       "version_major": 2,
       "version_minor": 0
      },
      "text/plain": [
       "Validation: |          | 0/? [00:00<?, ?it/s]"
      ]
     },
     "metadata": {},
     "output_type": "display_data"
    },
    {
     "data": {
      "application/vnd.jupyter.widget-view+json": {
       "model_id": "7523cfd997af46a2b0ab0d81a2d0a4ea",
       "version_major": 2,
       "version_minor": 0
      },
      "text/plain": [
       "Validation: |          | 0/? [00:00<?, ?it/s]"
      ]
     },
     "metadata": {},
     "output_type": "display_data"
    },
    {
     "data": {
      "application/vnd.jupyter.widget-view+json": {
       "model_id": "b37d384c48774b3090206b3473a43a35",
       "version_major": 2,
       "version_minor": 0
      },
      "text/plain": [
       "Validation: |          | 0/? [00:00<?, ?it/s]"
      ]
     },
     "metadata": {},
     "output_type": "display_data"
    },
    {
     "data": {
      "application/vnd.jupyter.widget-view+json": {
       "model_id": "13aa674825894dfaac5c810510f29e6d",
       "version_major": 2,
       "version_minor": 0
      },
      "text/plain": [
       "Validation: |          | 0/? [00:00<?, ?it/s]"
      ]
     },
     "metadata": {},
     "output_type": "display_data"
    },
    {
     "data": {
      "application/vnd.jupyter.widget-view+json": {
       "model_id": "f77735a0c8ae44aca6b3dfc619524512",
       "version_major": 2,
       "version_minor": 0
      },
      "text/plain": [
       "Validation: |          | 0/? [00:00<?, ?it/s]"
      ]
     },
     "metadata": {},
     "output_type": "display_data"
    },
    {
     "data": {
      "application/vnd.jupyter.widget-view+json": {
       "model_id": "71d45862dd9d48359551d9b0c4b9227a",
       "version_major": 2,
       "version_minor": 0
      },
      "text/plain": [
       "Validation: |          | 0/? [00:00<?, ?it/s]"
      ]
     },
     "metadata": {},
     "output_type": "display_data"
    },
    {
     "data": {
      "application/vnd.jupyter.widget-view+json": {
       "model_id": "bc76d664f5fc4b6aae49fe7adc42e087",
       "version_major": 2,
       "version_minor": 0
      },
      "text/plain": [
       "Validation: |          | 0/? [00:00<?, ?it/s]"
      ]
     },
     "metadata": {},
     "output_type": "display_data"
    },
    {
     "data": {
      "application/vnd.jupyter.widget-view+json": {
       "model_id": "3ba54db25bfc4d1ebe6030f2b6eb7545",
       "version_major": 2,
       "version_minor": 0
      },
      "text/plain": [
       "Validation: |          | 0/? [00:00<?, ?it/s]"
      ]
     },
     "metadata": {},
     "output_type": "display_data"
    },
    {
     "data": {
      "application/vnd.jupyter.widget-view+json": {
       "model_id": "4632f0c851f34446b10c7f4b30a88bb0",
       "version_major": 2,
       "version_minor": 0
      },
      "text/plain": [
       "Validation: |          | 0/? [00:00<?, ?it/s]"
      ]
     },
     "metadata": {},
     "output_type": "display_data"
    },
    {
     "data": {
      "application/vnd.jupyter.widget-view+json": {
       "model_id": "86a3ee88ca904c1bb279a2ed7b012389",
       "version_major": 2,
       "version_minor": 0
      },
      "text/plain": [
       "Validation: |          | 0/? [00:00<?, ?it/s]"
      ]
     },
     "metadata": {},
     "output_type": "display_data"
    },
    {
     "data": {
      "application/vnd.jupyter.widget-view+json": {
       "model_id": "941438a00cac42158d8a1fdfcde402dc",
       "version_major": 2,
       "version_minor": 0
      },
      "text/plain": [
       "Validation: |          | 0/? [00:00<?, ?it/s]"
      ]
     },
     "metadata": {},
     "output_type": "display_data"
    },
    {
     "data": {
      "application/vnd.jupyter.widget-view+json": {
       "model_id": "46913df4c3bb449a926f2cfc9f366dd2",
       "version_major": 2,
       "version_minor": 0
      },
      "text/plain": [
       "Validation: |          | 0/? [00:00<?, ?it/s]"
      ]
     },
     "metadata": {},
     "output_type": "display_data"
    },
    {
     "data": {
      "application/vnd.jupyter.widget-view+json": {
       "model_id": "87aac43cdd1e46a3a69bffd6a702e4b8",
       "version_major": 2,
       "version_minor": 0
      },
      "text/plain": [
       "Validation: |          | 0/? [00:00<?, ?it/s]"
      ]
     },
     "metadata": {},
     "output_type": "display_data"
    },
    {
     "data": {
      "application/vnd.jupyter.widget-view+json": {
       "model_id": "fa7c492c92d348be9274d2a22bf760e7",
       "version_major": 2,
       "version_minor": 0
      },
      "text/plain": [
       "Validation: |          | 0/? [00:00<?, ?it/s]"
      ]
     },
     "metadata": {},
     "output_type": "display_data"
    },
    {
     "data": {
      "application/vnd.jupyter.widget-view+json": {
       "model_id": "e60bb57a7ace4f1a8bb1152d874a4796",
       "version_major": 2,
       "version_minor": 0
      },
      "text/plain": [
       "Validation: |          | 0/? [00:00<?, ?it/s]"
      ]
     },
     "metadata": {},
     "output_type": "display_data"
    },
    {
     "data": {
      "application/vnd.jupyter.widget-view+json": {
       "model_id": "fa48d885951c4e229c2bb59df3174e3c",
       "version_major": 2,
       "version_minor": 0
      },
      "text/plain": [
       "Validation: |          | 0/? [00:00<?, ?it/s]"
      ]
     },
     "metadata": {},
     "output_type": "display_data"
    },
    {
     "data": {
      "application/vnd.jupyter.widget-view+json": {
       "model_id": "20925e1f5b974a179d71a20bb3b4e6f1",
       "version_major": 2,
       "version_minor": 0
      },
      "text/plain": [
       "Validation: |          | 0/? [00:00<?, ?it/s]"
      ]
     },
     "metadata": {},
     "output_type": "display_data"
    },
    {
     "data": {
      "application/vnd.jupyter.widget-view+json": {
       "model_id": "c6c8345da2e9449dba19cfedb6889f7a",
       "version_major": 2,
       "version_minor": 0
      },
      "text/plain": [
       "Validation: |          | 0/? [00:00<?, ?it/s]"
      ]
     },
     "metadata": {},
     "output_type": "display_data"
    },
    {
     "data": {
      "application/vnd.jupyter.widget-view+json": {
       "model_id": "59b308227bc74109adab11d821f50ea7",
       "version_major": 2,
       "version_minor": 0
      },
      "text/plain": [
       "Validation: |          | 0/? [00:00<?, ?it/s]"
      ]
     },
     "metadata": {},
     "output_type": "display_data"
    },
    {
     "data": {
      "application/vnd.jupyter.widget-view+json": {
       "model_id": "9a4deb745b9b450da03c955b7e4e8c52",
       "version_major": 2,
       "version_minor": 0
      },
      "text/plain": [
       "Validation: |          | 0/? [00:00<?, ?it/s]"
      ]
     },
     "metadata": {},
     "output_type": "display_data"
    },
    {
     "data": {
      "application/vnd.jupyter.widget-view+json": {
       "model_id": "a78bd4aa5cdd4ad2817df535d7162dcc",
       "version_major": 2,
       "version_minor": 0
      },
      "text/plain": [
       "Validation: |          | 0/? [00:00<?, ?it/s]"
      ]
     },
     "metadata": {},
     "output_type": "display_data"
    },
    {
     "data": {
      "application/vnd.jupyter.widget-view+json": {
       "model_id": "bf330eb163774c34aef06237d4e8fcc0",
       "version_major": 2,
       "version_minor": 0
      },
      "text/plain": [
       "Validation: |          | 0/? [00:00<?, ?it/s]"
      ]
     },
     "metadata": {},
     "output_type": "display_data"
    },
    {
     "data": {
      "application/vnd.jupyter.widget-view+json": {
       "model_id": "8e37d0ab8ec34ef793db51f0f7a31c4d",
       "version_major": 2,
       "version_minor": 0
      },
      "text/plain": [
       "Validation: |          | 0/? [00:00<?, ?it/s]"
      ]
     },
     "metadata": {},
     "output_type": "display_data"
    },
    {
     "data": {
      "application/vnd.jupyter.widget-view+json": {
       "model_id": "cf047767426348e59fcac1a7d5ae4b74",
       "version_major": 2,
       "version_minor": 0
      },
      "text/plain": [
       "Validation: |          | 0/? [00:00<?, ?it/s]"
      ]
     },
     "metadata": {},
     "output_type": "display_data"
    },
    {
     "data": {
      "application/vnd.jupyter.widget-view+json": {
       "model_id": "cced4303358a486ab5548136878e06a4",
       "version_major": 2,
       "version_minor": 0
      },
      "text/plain": [
       "Validation: |          | 0/? [00:00<?, ?it/s]"
      ]
     },
     "metadata": {},
     "output_type": "display_data"
    },
    {
     "data": {
      "application/vnd.jupyter.widget-view+json": {
       "model_id": "7153b7ca0db142508ab0c6b10732edbd",
       "version_major": 2,
       "version_minor": 0
      },
      "text/plain": [
       "Validation: |          | 0/? [00:00<?, ?it/s]"
      ]
     },
     "metadata": {},
     "output_type": "display_data"
    },
    {
     "data": {
      "application/vnd.jupyter.widget-view+json": {
       "model_id": "973a20ff9cdf43f29edeef2d5c7ac8ed",
       "version_major": 2,
       "version_minor": 0
      },
      "text/plain": [
       "Validation: |          | 0/? [00:00<?, ?it/s]"
      ]
     },
     "metadata": {},
     "output_type": "display_data"
    },
    {
     "data": {
      "application/vnd.jupyter.widget-view+json": {
       "model_id": "c414676334124b5ca316455e7b9711cc",
       "version_major": 2,
       "version_minor": 0
      },
      "text/plain": [
       "Validation: |          | 0/? [00:00<?, ?it/s]"
      ]
     },
     "metadata": {},
     "output_type": "display_data"
    },
    {
     "data": {
      "application/vnd.jupyter.widget-view+json": {
       "model_id": "11fe8d0bc01d4ae39a790704d6f7a0c5",
       "version_major": 2,
       "version_minor": 0
      },
      "text/plain": [
       "Validation: |          | 0/? [00:00<?, ?it/s]"
      ]
     },
     "metadata": {},
     "output_type": "display_data"
    },
    {
     "data": {
      "application/vnd.jupyter.widget-view+json": {
       "model_id": "01f7ceabdc8449b2944c4bcbd036e405",
       "version_major": 2,
       "version_minor": 0
      },
      "text/plain": [
       "Validation: |          | 0/? [00:00<?, ?it/s]"
      ]
     },
     "metadata": {},
     "output_type": "display_data"
    },
    {
     "data": {
      "application/vnd.jupyter.widget-view+json": {
       "model_id": "e68773ec98b442c68734a6416cbb00b2",
       "version_major": 2,
       "version_minor": 0
      },
      "text/plain": [
       "Validation: |          | 0/? [00:00<?, ?it/s]"
      ]
     },
     "metadata": {},
     "output_type": "display_data"
    },
    {
     "data": {
      "application/vnd.jupyter.widget-view+json": {
       "model_id": "d1dd2c3e0d61437499afb0701563c77c",
       "version_major": 2,
       "version_minor": 0
      },
      "text/plain": [
       "Validation: |          | 0/? [00:00<?, ?it/s]"
      ]
     },
     "metadata": {},
     "output_type": "display_data"
    },
    {
     "data": {
      "application/vnd.jupyter.widget-view+json": {
       "model_id": "41eba46e1f314ec1890e53d35f2a51aa",
       "version_major": 2,
       "version_minor": 0
      },
      "text/plain": [
       "Validation: |          | 0/? [00:00<?, ?it/s]"
      ]
     },
     "metadata": {},
     "output_type": "display_data"
    },
    {
     "data": {
      "application/vnd.jupyter.widget-view+json": {
       "model_id": "b3a13239140e4455a155e4e8c4c9b971",
       "version_major": 2,
       "version_minor": 0
      },
      "text/plain": [
       "Validation: |          | 0/? [00:00<?, ?it/s]"
      ]
     },
     "metadata": {},
     "output_type": "display_data"
    },
    {
     "data": {
      "application/vnd.jupyter.widget-view+json": {
       "model_id": "c31ec9a365ac40f3896b10abd7ff046e",
       "version_major": 2,
       "version_minor": 0
      },
      "text/plain": [
       "Validation: |          | 0/? [00:00<?, ?it/s]"
      ]
     },
     "metadata": {},
     "output_type": "display_data"
    },
    {
     "data": {
      "application/vnd.jupyter.widget-view+json": {
       "model_id": "dea7e041eb914ce4af11c470239d541b",
       "version_major": 2,
       "version_minor": 0
      },
      "text/plain": [
       "Validation: |          | 0/? [00:00<?, ?it/s]"
      ]
     },
     "metadata": {},
     "output_type": "display_data"
    },
    {
     "data": {
      "application/vnd.jupyter.widget-view+json": {
       "model_id": "23f4188649c54973b4a02c6062c0a978",
       "version_major": 2,
       "version_minor": 0
      },
      "text/plain": [
       "Validation: |          | 0/? [00:00<?, ?it/s]"
      ]
     },
     "metadata": {},
     "output_type": "display_data"
    },
    {
     "data": {
      "application/vnd.jupyter.widget-view+json": {
       "model_id": "ece6cbaf0258424896188cb347757951",
       "version_major": 2,
       "version_minor": 0
      },
      "text/plain": [
       "Validation: |          | 0/? [00:00<?, ?it/s]"
      ]
     },
     "metadata": {},
     "output_type": "display_data"
    },
    {
     "data": {
      "application/vnd.jupyter.widget-view+json": {
       "model_id": "9b1efb80c02740d7aeee94125d7172e1",
       "version_major": 2,
       "version_minor": 0
      },
      "text/plain": [
       "Validation: |          | 0/? [00:00<?, ?it/s]"
      ]
     },
     "metadata": {},
     "output_type": "display_data"
    },
    {
     "data": {
      "application/vnd.jupyter.widget-view+json": {
       "model_id": "3b1d5a349242417abf898c6ba1fc3a58",
       "version_major": 2,
       "version_minor": 0
      },
      "text/plain": [
       "Validation: |          | 0/? [00:00<?, ?it/s]"
      ]
     },
     "metadata": {},
     "output_type": "display_data"
    },
    {
     "data": {
      "application/vnd.jupyter.widget-view+json": {
       "model_id": "7e5f9bb2e9be4ca2b819da3102a4961d",
       "version_major": 2,
       "version_minor": 0
      },
      "text/plain": [
       "Validation: |          | 0/? [00:00<?, ?it/s]"
      ]
     },
     "metadata": {},
     "output_type": "display_data"
    },
    {
     "data": {
      "application/vnd.jupyter.widget-view+json": {
       "model_id": "c98d304351df4fe4a3ccc542991fbd95",
       "version_major": 2,
       "version_minor": 0
      },
      "text/plain": [
       "Validation: |          | 0/? [00:00<?, ?it/s]"
      ]
     },
     "metadata": {},
     "output_type": "display_data"
    },
    {
     "data": {
      "application/vnd.jupyter.widget-view+json": {
       "model_id": "99d4f8c3f90e44b7b2181a9234367be5",
       "version_major": 2,
       "version_minor": 0
      },
      "text/plain": [
       "Validation: |          | 0/? [00:00<?, ?it/s]"
      ]
     },
     "metadata": {},
     "output_type": "display_data"
    },
    {
     "data": {
      "application/vnd.jupyter.widget-view+json": {
       "model_id": "f7f50e3a08654b4ca0ecad3e9bb42d83",
       "version_major": 2,
       "version_minor": 0
      },
      "text/plain": [
       "Validation: |          | 0/? [00:00<?, ?it/s]"
      ]
     },
     "metadata": {},
     "output_type": "display_data"
    },
    {
     "data": {
      "application/vnd.jupyter.widget-view+json": {
       "model_id": "e526b7ffea704ce5a84e076ba24c7114",
       "version_major": 2,
       "version_minor": 0
      },
      "text/plain": [
       "Validation: |          | 0/? [00:00<?, ?it/s]"
      ]
     },
     "metadata": {},
     "output_type": "display_data"
    },
    {
     "data": {
      "application/vnd.jupyter.widget-view+json": {
       "model_id": "85b846dfa68e42479510e6281004a7a2",
       "version_major": 2,
       "version_minor": 0
      },
      "text/plain": [
       "Validation: |          | 0/? [00:00<?, ?it/s]"
      ]
     },
     "metadata": {},
     "output_type": "display_data"
    },
    {
     "data": {
      "application/vnd.jupyter.widget-view+json": {
       "model_id": "3d2a28934b5042a2b58c0ad28dfcfc58",
       "version_major": 2,
       "version_minor": 0
      },
      "text/plain": [
       "Validation: |          | 0/? [00:00<?, ?it/s]"
      ]
     },
     "metadata": {},
     "output_type": "display_data"
    },
    {
     "data": {
      "application/vnd.jupyter.widget-view+json": {
       "model_id": "726a828dfd63422d889189d95379dddd",
       "version_major": 2,
       "version_minor": 0
      },
      "text/plain": [
       "Validation: |          | 0/? [00:00<?, ?it/s]"
      ]
     },
     "metadata": {},
     "output_type": "display_data"
    },
    {
     "data": {
      "application/vnd.jupyter.widget-view+json": {
       "model_id": "6f88c0e3930a45d8bf99b53591250f97",
       "version_major": 2,
       "version_minor": 0
      },
      "text/plain": [
       "Validation: |          | 0/? [00:00<?, ?it/s]"
      ]
     },
     "metadata": {},
     "output_type": "display_data"
    },
    {
     "data": {
      "application/vnd.jupyter.widget-view+json": {
       "model_id": "5a80abdf66af4a3193bebe1f61f98241",
       "version_major": 2,
       "version_minor": 0
      },
      "text/plain": [
       "Validation: |          | 0/? [00:00<?, ?it/s]"
      ]
     },
     "metadata": {},
     "output_type": "display_data"
    },
    {
     "data": {
      "application/vnd.jupyter.widget-view+json": {
       "model_id": "fa55f849b8f0477a900b9933971d0160",
       "version_major": 2,
       "version_minor": 0
      },
      "text/plain": [
       "Validation: |          | 0/? [00:00<?, ?it/s]"
      ]
     },
     "metadata": {},
     "output_type": "display_data"
    },
    {
     "data": {
      "application/vnd.jupyter.widget-view+json": {
       "model_id": "fb7300b47c2a45c89438387567273cab",
       "version_major": 2,
       "version_minor": 0
      },
      "text/plain": [
       "Validation: |          | 0/? [00:00<?, ?it/s]"
      ]
     },
     "metadata": {},
     "output_type": "display_data"
    },
    {
     "data": {
      "application/vnd.jupyter.widget-view+json": {
       "model_id": "8808749994f347549e37e35a4345370a",
       "version_major": 2,
       "version_minor": 0
      },
      "text/plain": [
       "Validation: |          | 0/? [00:00<?, ?it/s]"
      ]
     },
     "metadata": {},
     "output_type": "display_data"
    },
    {
     "data": {
      "application/vnd.jupyter.widget-view+json": {
       "model_id": "58b637b946934f868c372ec516af31c4",
       "version_major": 2,
       "version_minor": 0
      },
      "text/plain": [
       "Validation: |          | 0/? [00:00<?, ?it/s]"
      ]
     },
     "metadata": {},
     "output_type": "display_data"
    },
    {
     "data": {
      "application/vnd.jupyter.widget-view+json": {
       "model_id": "dd7bdf26315e41bc83c5359d3e819747",
       "version_major": 2,
       "version_minor": 0
      },
      "text/plain": [
       "Validation: |          | 0/? [00:00<?, ?it/s]"
      ]
     },
     "metadata": {},
     "output_type": "display_data"
    },
    {
     "data": {
      "application/vnd.jupyter.widget-view+json": {
       "model_id": "45c52e5b4af943cb8b572a432107e915",
       "version_major": 2,
       "version_minor": 0
      },
      "text/plain": [
       "Validation: |          | 0/? [00:00<?, ?it/s]"
      ]
     },
     "metadata": {},
     "output_type": "display_data"
    },
    {
     "data": {
      "application/vnd.jupyter.widget-view+json": {
       "model_id": "a9ab0c33e3ee4ce38970c973354f6f00",
       "version_major": 2,
       "version_minor": 0
      },
      "text/plain": [
       "Validation: |          | 0/? [00:00<?, ?it/s]"
      ]
     },
     "metadata": {},
     "output_type": "display_data"
    },
    {
     "data": {
      "application/vnd.jupyter.widget-view+json": {
       "model_id": "720f6042397b49bbb308c6407bbb3956",
       "version_major": 2,
       "version_minor": 0
      },
      "text/plain": [
       "Validation: |          | 0/? [00:00<?, ?it/s]"
      ]
     },
     "metadata": {},
     "output_type": "display_data"
    },
    {
     "data": {
      "application/vnd.jupyter.widget-view+json": {
       "model_id": "a0dde5b650f3411290c902713f0d7b30",
       "version_major": 2,
       "version_minor": 0
      },
      "text/plain": [
       "Validation: |          | 0/? [00:00<?, ?it/s]"
      ]
     },
     "metadata": {},
     "output_type": "display_data"
    },
    {
     "data": {
      "application/vnd.jupyter.widget-view+json": {
       "model_id": "db4b42b5b4a7417f82fa6f50c7a1c672",
       "version_major": 2,
       "version_minor": 0
      },
      "text/plain": [
       "Validation: |          | 0/? [00:00<?, ?it/s]"
      ]
     },
     "metadata": {},
     "output_type": "display_data"
    },
    {
     "data": {
      "application/vnd.jupyter.widget-view+json": {
       "model_id": "48522a6a91c74b65b73233f86568aa58",
       "version_major": 2,
       "version_minor": 0
      },
      "text/plain": [
       "Validation: |          | 0/? [00:00<?, ?it/s]"
      ]
     },
     "metadata": {},
     "output_type": "display_data"
    },
    {
     "data": {
      "application/vnd.jupyter.widget-view+json": {
       "model_id": "f6c5e24eebda49eeaf841d52db7f7fa3",
       "version_major": 2,
       "version_minor": 0
      },
      "text/plain": [
       "Validation: |          | 0/? [00:00<?, ?it/s]"
      ]
     },
     "metadata": {},
     "output_type": "display_data"
    },
    {
     "data": {
      "application/vnd.jupyter.widget-view+json": {
       "model_id": "68e477f6971748ae966485ad72d2786b",
       "version_major": 2,
       "version_minor": 0
      },
      "text/plain": [
       "Validation: |          | 0/? [00:00<?, ?it/s]"
      ]
     },
     "metadata": {},
     "output_type": "display_data"
    },
    {
     "data": {
      "application/vnd.jupyter.widget-view+json": {
       "model_id": "adc71ecc64d242d4be465a8a178fd31e",
       "version_major": 2,
       "version_minor": 0
      },
      "text/plain": [
       "Validation: |          | 0/? [00:00<?, ?it/s]"
      ]
     },
     "metadata": {},
     "output_type": "display_data"
    },
    {
     "data": {
      "application/vnd.jupyter.widget-view+json": {
       "model_id": "48022228f5dd4f6fb4995b9e66e48f18",
       "version_major": 2,
       "version_minor": 0
      },
      "text/plain": [
       "Validation: |          | 0/? [00:00<?, ?it/s]"
      ]
     },
     "metadata": {},
     "output_type": "display_data"
    },
    {
     "data": {
      "application/vnd.jupyter.widget-view+json": {
       "model_id": "d796df7a3fd54e5baa0943bb7c0d1aa1",
       "version_major": 2,
       "version_minor": 0
      },
      "text/plain": [
       "Validation: |          | 0/? [00:00<?, ?it/s]"
      ]
     },
     "metadata": {},
     "output_type": "display_data"
    },
    {
     "data": {
      "application/vnd.jupyter.widget-view+json": {
       "model_id": "3e6dbaae697b48f590ea6f66639684d3",
       "version_major": 2,
       "version_minor": 0
      },
      "text/plain": [
       "Validation: |          | 0/? [00:00<?, ?it/s]"
      ]
     },
     "metadata": {},
     "output_type": "display_data"
    },
    {
     "data": {
      "application/vnd.jupyter.widget-view+json": {
       "model_id": "eff38cc1d1ea43d4bc5ca3cebfa6510d",
       "version_major": 2,
       "version_minor": 0
      },
      "text/plain": [
       "Validation: |          | 0/? [00:00<?, ?it/s]"
      ]
     },
     "metadata": {},
     "output_type": "display_data"
    },
    {
     "data": {
      "application/vnd.jupyter.widget-view+json": {
       "model_id": "29490106751246bd8b7ca6e9204121fa",
       "version_major": 2,
       "version_minor": 0
      },
      "text/plain": [
       "Validation: |          | 0/? [00:00<?, ?it/s]"
      ]
     },
     "metadata": {},
     "output_type": "display_data"
    },
    {
     "data": {
      "application/vnd.jupyter.widget-view+json": {
       "model_id": "9c1af4d0d82743f88a55e2decb4692a8",
       "version_major": 2,
       "version_minor": 0
      },
      "text/plain": [
       "Validation: |          | 0/? [00:00<?, ?it/s]"
      ]
     },
     "metadata": {},
     "output_type": "display_data"
    },
    {
     "data": {
      "application/vnd.jupyter.widget-view+json": {
       "model_id": "af5140ebba2747b2882d854b32b13f1f",
       "version_major": 2,
       "version_minor": 0
      },
      "text/plain": [
       "Validation: |          | 0/? [00:00<?, ?it/s]"
      ]
     },
     "metadata": {},
     "output_type": "display_data"
    },
    {
     "data": {
      "application/vnd.jupyter.widget-view+json": {
       "model_id": "d4417ed8b1f74e3c9bcad429d11ab794",
       "version_major": 2,
       "version_minor": 0
      },
      "text/plain": [
       "Validation: |          | 0/? [00:00<?, ?it/s]"
      ]
     },
     "metadata": {},
     "output_type": "display_data"
    },
    {
     "data": {
      "application/vnd.jupyter.widget-view+json": {
       "model_id": "063a9504f9bb42c5a1a54b9bb4dd16c6",
       "version_major": 2,
       "version_minor": 0
      },
      "text/plain": [
       "Validation: |          | 0/? [00:00<?, ?it/s]"
      ]
     },
     "metadata": {},
     "output_type": "display_data"
    },
    {
     "data": {
      "application/vnd.jupyter.widget-view+json": {
       "model_id": "96a74dc1b40e4d0db61c991777416690",
       "version_major": 2,
       "version_minor": 0
      },
      "text/plain": [
       "Validation: |          | 0/? [00:00<?, ?it/s]"
      ]
     },
     "metadata": {},
     "output_type": "display_data"
    },
    {
     "data": {
      "application/vnd.jupyter.widget-view+json": {
       "model_id": "1254394bc0574ae98aa1c3f951b15f6e",
       "version_major": 2,
       "version_minor": 0
      },
      "text/plain": [
       "Validation: |          | 0/? [00:00<?, ?it/s]"
      ]
     },
     "metadata": {},
     "output_type": "display_data"
    },
    {
     "data": {
      "application/vnd.jupyter.widget-view+json": {
       "model_id": "e4569ab0c3934e3688d6223903b3d76c",
       "version_major": 2,
       "version_minor": 0
      },
      "text/plain": [
       "Validation: |          | 0/? [00:00<?, ?it/s]"
      ]
     },
     "metadata": {},
     "output_type": "display_data"
    },
    {
     "data": {
      "application/vnd.jupyter.widget-view+json": {
       "model_id": "ff7f7f74effb42489ff2ba0be37ec141",
       "version_major": 2,
       "version_minor": 0
      },
      "text/plain": [
       "Validation: |          | 0/? [00:00<?, ?it/s]"
      ]
     },
     "metadata": {},
     "output_type": "display_data"
    },
    {
     "data": {
      "application/vnd.jupyter.widget-view+json": {
       "model_id": "f82e746f8a0f4e56a08c08283fc94ffa",
       "version_major": 2,
       "version_minor": 0
      },
      "text/plain": [
       "Validation: |          | 0/? [00:00<?, ?it/s]"
      ]
     },
     "metadata": {},
     "output_type": "display_data"
    },
    {
     "data": {
      "application/vnd.jupyter.widget-view+json": {
       "model_id": "3d4c9465826148e1806c1eeb094c0371",
       "version_major": 2,
       "version_minor": 0
      },
      "text/plain": [
       "Validation: |          | 0/? [00:00<?, ?it/s]"
      ]
     },
     "metadata": {},
     "output_type": "display_data"
    },
    {
     "data": {
      "application/vnd.jupyter.widget-view+json": {
       "model_id": "d522b90befc347d8954c8c2c08042122",
       "version_major": 2,
       "version_minor": 0
      },
      "text/plain": [
       "Validation: |          | 0/? [00:00<?, ?it/s]"
      ]
     },
     "metadata": {},
     "output_type": "display_data"
    },
    {
     "data": {
      "application/vnd.jupyter.widget-view+json": {
       "model_id": "d67ebbb8831b4796a0151f6b6d9b1c8e",
       "version_major": 2,
       "version_minor": 0
      },
      "text/plain": [
       "Validation: |          | 0/? [00:00<?, ?it/s]"
      ]
     },
     "metadata": {},
     "output_type": "display_data"
    },
    {
     "data": {
      "application/vnd.jupyter.widget-view+json": {
       "model_id": "f5c9f082c7794fc89c749fec95a13dbb",
       "version_major": 2,
       "version_minor": 0
      },
      "text/plain": [
       "Validation: |          | 0/? [00:00<?, ?it/s]"
      ]
     },
     "metadata": {},
     "output_type": "display_data"
    },
    {
     "data": {
      "application/vnd.jupyter.widget-view+json": {
       "model_id": "54e9e66a3aa64570b202ff4aa286a5f0",
       "version_major": 2,
       "version_minor": 0
      },
      "text/plain": [
       "Validation: |          | 0/? [00:00<?, ?it/s]"
      ]
     },
     "metadata": {},
     "output_type": "display_data"
    },
    {
     "data": {
      "application/vnd.jupyter.widget-view+json": {
       "model_id": "b58797c85cb845609d8958c5492feb2e",
       "version_major": 2,
       "version_minor": 0
      },
      "text/plain": [
       "Validation: |          | 0/? [00:00<?, ?it/s]"
      ]
     },
     "metadata": {},
     "output_type": "display_data"
    },
    {
     "data": {
      "application/vnd.jupyter.widget-view+json": {
       "model_id": "010d77f347ce4811bbf4df98492ac2cf",
       "version_major": 2,
       "version_minor": 0
      },
      "text/plain": [
       "Validation: |          | 0/? [00:00<?, ?it/s]"
      ]
     },
     "metadata": {},
     "output_type": "display_data"
    },
    {
     "data": {
      "application/vnd.jupyter.widget-view+json": {
       "model_id": "ba13c09700cb42e890b11e24553b1ae3",
       "version_major": 2,
       "version_minor": 0
      },
      "text/plain": [
       "Validation: |          | 0/? [00:00<?, ?it/s]"
      ]
     },
     "metadata": {},
     "output_type": "display_data"
    },
    {
     "data": {
      "application/vnd.jupyter.widget-view+json": {
       "model_id": "2ead7f877ccd4e69b7e1326fa467ff5b",
       "version_major": 2,
       "version_minor": 0
      },
      "text/plain": [
       "Validation: |          | 0/? [00:00<?, ?it/s]"
      ]
     },
     "metadata": {},
     "output_type": "display_data"
    },
    {
     "data": {
      "application/vnd.jupyter.widget-view+json": {
       "model_id": "74d1c35cd9154efdb7ccd5f02a766658",
       "version_major": 2,
       "version_minor": 0
      },
      "text/plain": [
       "Validation: |          | 0/? [00:00<?, ?it/s]"
      ]
     },
     "metadata": {},
     "output_type": "display_data"
    },
    {
     "data": {
      "application/vnd.jupyter.widget-view+json": {
       "model_id": "7be90c6d4c4b4613bab949b26f30a22a",
       "version_major": 2,
       "version_minor": 0
      },
      "text/plain": [
       "Validation: |          | 0/? [00:00<?, ?it/s]"
      ]
     },
     "metadata": {},
     "output_type": "display_data"
    },
    {
     "data": {
      "application/vnd.jupyter.widget-view+json": {
       "model_id": "0efb0c4569674e7e809be45310e65921",
       "version_major": 2,
       "version_minor": 0
      },
      "text/plain": [
       "Validation: |          | 0/? [00:00<?, ?it/s]"
      ]
     },
     "metadata": {},
     "output_type": "display_data"
    },
    {
     "name": "stderr",
     "output_type": "stream",
     "text": [
      "`Trainer.fit` stopped: `max_epochs=100` reached.\n",
      "FIT Profiler Report\n",
      "\n",
      "--------------------------------------------------------------------------------------------------------------------------------------------------------------------------------------------------------------------------------------------------------------------------\n",
      "|  Action                                                                                                                                                         \t|  Mean duration (s)\t|  Num calls      \t|  Total time (s) \t|  Percentage %   \t|\n",
      "--------------------------------------------------------------------------------------------------------------------------------------------------------------------------------------------------------------------------------------------------------------------------\n",
      "|  Total                                                                                                                                                          \t|  -              \t|  595801         \t|  139.93         \t|  100 %          \t|\n",
      "--------------------------------------------------------------------------------------------------------------------------------------------------------------------------------------------------------------------------------------------------------------------------\n",
      "|  run_training_epoch                                                                                                                                             \t|  1.3834         \t|  100            \t|  138.34         \t|  98.865         \t|\n",
      "|  run_training_batch                                                                                                                                             \t|  0.0047481      \t|  10200          \t|  48.431         \t|  34.611         \t|\n",
      "|  [LightningModule]Classifier.optimizer_step                                                                                                                     \t|  0.0047016      \t|  10200          \t|  47.956         \t|  34.271         \t|\n",
      "|  [Strategy]SingleDeviceStrategy.validation_step                                                                                                                 \t|  0.0036624      \t|  10202          \t|  37.363         \t|  26.702         \t|\n",
      "|  [Strategy]SingleDeviceStrategy.batch_to_device                                                                                                                 \t|  0.0012401      \t|  20402          \t|  25.301         \t|  18.081         \t|\n",
      "|  [LightningModule]Classifier.transfer_batch_to_device                                                                                                           \t|  0.0011873      \t|  20402          \t|  24.223         \t|  17.311         \t|\n",
      "|  [Strategy]SingleDeviceStrategy.training_step                                                                                                                   \t|  0.0013255      \t|  10200          \t|  13.52          \t|  9.662          \t|\n",
      "|  [Strategy]SingleDeviceStrategy.backward                                                                                                                        \t|  0.00092039     \t|  10200          \t|  9.388          \t|  6.7091         \t|\n",
      "|  [Callback]TQDMProgressBar.on_train_batch_end                                                                                                                   \t|  0.00075495     \t|  10200          \t|  7.7005         \t|  5.5031         \t|\n",
      "|  [Callback]TQDMProgressBar.on_validation_batch_end                                                                                                              \t|  0.00049688     \t|  10202          \t|  5.0691         \t|  3.6226         \t|\n",
      "|  [_EvaluationLoop].val_next                                                                                                                                     \t|  0.00032531     \t|  10202          \t|  3.3188         \t|  2.3718         \t|\n",
      "|  [_TrainingEpochLoop].train_dataloader_next                                                                                                                     \t|  0.00032532     \t|  10200          \t|  3.3182         \t|  2.3713         \t|\n",
      "|  [LightningModule]Classifier.optimizer_zero_grad                                                                                                                \t|  0.00015428     \t|  10200          \t|  1.5736         \t|  1.1246         \t|\n",
      "|  [Callback]EarlyStopping{'monitor': 'val_loss', 'mode': 'min'}.on_train_epoch_end                                                                               \t|  0.0078208      \t|  100            \t|  0.78208        \t|  0.55891        \t|\n",
      "|  [Callback]ModelCheckpoint{'monitor': None, 'mode': 'min', 'every_n_train_steps': 0, 'every_n_epochs': 1, 'train_time_interval': None}.on_train_epoch_end       \t|  0.0062913      \t|  100            \t|  0.62913        \t|  0.44961        \t|\n",
      "|  [Callback]TQDMProgressBar.on_validation_start                                                                                                                  \t|  0.0039718      \t|  101            \t|  0.40115        \t|  0.28668        \t|\n",
      "|  [Callback]ModelCheckpoint{'monitor': None, 'mode': 'min', 'every_n_train_steps': 0, 'every_n_epochs': 1, 'train_time_interval': None}.on_train_batch_end       \t|  1.5742e-05     \t|  10200          \t|  0.16057        \t|  0.11475        \t|\n",
      "|  [LightningModule]Classifier.configure_gradient_clipping                                                                                                        \t|  1.4624e-05     \t|  10200          \t|  0.14916        \t|  0.1066         \t|\n",
      "|  [Callback]TQDMProgressBar.on_validation_batch_start                                                                                                            \t|  9.3769e-06     \t|  10202          \t|  0.095664       \t|  0.068365       \t|\n",
      "|  [Callback]TQDMProgressBar.on_validation_end                                                                                                                    \t|  0.0007255      \t|  101            \t|  0.073276       \t|  0.052366       \t|\n",
      "|  [Callback]TQDMProgressBar.on_train_epoch_start                                                                                                                 \t|  0.00058654     \t|  100            \t|  0.058654       \t|  0.041917       \t|\n",
      "|  [Callback]TQDMProgressBar.on_train_epoch_end                                                                                                                   \t|  0.00029483     \t|  100            \t|  0.029483       \t|  0.021069       \t|\n",
      "|  [Callback]ModelCheckpoint{'monitor': None, 'mode': 'min', 'every_n_train_steps': 0, 'every_n_epochs': 1, 'train_time_interval': None}.on_validation_batch_end  \t|  2.0869e-06     \t|  10202          \t|  0.021291       \t|  0.015215       \t|\n",
      "|  [LightningModule]Classifier.on_before_batch_transfer                                                                                                           \t|  9.4891e-07     \t|  20402          \t|  0.01936        \t|  0.013835       \t|\n",
      "|  [LightningModule]Classifier.on_after_batch_transfer                                                                                                            \t|  9.3574e-07     \t|  20402          \t|  0.019091       \t|  0.013643       \t|\n",
      "|  [Callback]ModelSummary.on_after_backward                                                                                                                       \t|  1.7948e-06     \t|  10200          \t|  0.018307       \t|  0.013083       \t|\n",
      "|  [Callback]ModelSummary.on_validation_batch_end                                                                                                                 \t|  1.7762e-06     \t|  10202          \t|  0.018121       \t|  0.01295        \t|\n",
      "|  [Callback]ModelSummary.on_before_zero_grad                                                                                                                     \t|  1.6343e-06     \t|  10200          \t|  0.01667        \t|  0.011913       \t|\n",
      "|  [Callback]ModelSummary.on_train_batch_end                                                                                                                      \t|  1.4879e-06     \t|  10200          \t|  0.015177       \t|  0.010846       \t|\n",
      "|  [Callback]ModelSummary.on_validation_batch_start                                                                                                               \t|  1.3487e-06     \t|  10202          \t|  0.013759       \t|  0.009833       \t|\n",
      "|  [Callback]ModelSummary.on_train_batch_start                                                                                                                    \t|  1.3262e-06     \t|  10200          \t|  0.013528       \t|  0.0096674      \t|\n",
      "|  [Callback]ModelSummary.on_before_backward                                                                                                                      \t|  1.0756e-06     \t|  10200          \t|  0.010971       \t|  0.0078403      \t|\n",
      "|  [LightningModule]Classifier.on_train_batch_end                                                                                                                 \t|  9.0188e-07     \t|  10200          \t|  0.0091992      \t|  0.0065742      \t|\n",
      "|  [Callback]ModelSummary.on_before_optimizer_step                                                                                                                \t|  8.6041e-07     \t|  10200          \t|  0.0087761      \t|  0.0062718      \t|\n",
      "|  [LightningModule]Classifier.on_validation_batch_end                                                                                                            \t|  8.3502e-07     \t|  10202          \t|  0.0085189      \t|  0.006088       \t|\n",
      "|  [LightningModule]Classifier.on_validation_batch_start                                                                                                          \t|  8.345e-07      \t|  10202          \t|  0.0085136      \t|  0.0060842      \t|\n",
      "|  [LightningModule]Classifier.on_train_batch_start                                                                                                               \t|  8.33e-07       \t|  10200          \t|  0.0084966      \t|  0.006072       \t|\n",
      "|  [Callback]EarlyStopping{'monitor': 'val_loss', 'mode': 'min'}.on_validation_batch_end                                                                          \t|  8.0057e-07     \t|  10202          \t|  0.0081674      \t|  0.0058368      \t|\n",
      "|  [LightningModule]Classifier.on_before_zero_grad                                                                                                                \t|  7.8583e-07     \t|  10200          \t|  0.0080154      \t|  0.0057282      \t|\n",
      "|  [Callback]EarlyStopping{'monitor': 'val_loss', 'mode': 'min'}.on_after_backward                                                                                \t|  7.4524e-07     \t|  10200          \t|  0.0076014      \t|  0.0054323      \t|\n",
      "|  [Callback]EarlyStopping{'monitor': 'val_loss', 'mode': 'min'}.on_train_batch_end                                                                               \t|  7.4284e-07     \t|  10200          \t|  0.007577       \t|  0.0054148      \t|\n",
      "|  [Callback]TQDMProgressBar.on_train_batch_start                                                                                                                 \t|  7.3638e-07     \t|  10200          \t|  0.0075111      \t|  0.0053677      \t|\n",
      "|  [Strategy]SingleDeviceStrategy.on_train_batch_start                                                                                                            \t|  7.1304e-07     \t|  10200          \t|  0.007273       \t|  0.0051976      \t|\n",
      "|  [Callback]EarlyStopping{'monitor': 'val_loss', 'mode': 'min'}.on_before_zero_grad                                                                              \t|  6.9414e-07     \t|  10200          \t|  0.0070802      \t|  0.0050598      \t|\n",
      "|  [Callback]EarlyStopping{'monitor': 'val_loss', 'mode': 'min'}.on_validation_batch_start                                                                        \t|  6.8546e-07     \t|  10202          \t|  0.0069931      \t|  0.0049976      \t|\n",
      "|  [Callback]ModelCheckpoint{'monitor': None, 'mode': 'min', 'every_n_train_steps': 0, 'every_n_epochs': 1, 'train_time_interval': None}.on_after_backward        \t|  6.8013e-07     \t|  10200          \t|  0.0069373      \t|  0.0049577      \t|\n",
      "|  [Callback]ModelCheckpoint{'monitor': None, 'mode': 'min', 'every_n_train_steps': 0, 'every_n_epochs': 1, 'train_time_interval': None}.on_validation_batch_start\t|  6.6728e-07     \t|  10202          \t|  0.0068075      \t|  0.004865       \t|\n",
      "|  [LightningModule]Classifier.on_before_backward                                                                                                                 \t|  6.581e-07      \t|  10200          \t|  0.0067126      \t|  0.0047971      \t|\n",
      "|  [Callback]EarlyStopping{'monitor': 'val_loss', 'mode': 'min'}.on_train_batch_start                                                                             \t|  6.5779e-07     \t|  10200          \t|  0.0067095      \t|  0.0047949      \t|\n",
      "|  [Callback]TQDMProgressBar.on_before_zero_grad                                                                                                                  \t|  6.4389e-07     \t|  10200          \t|  0.0065677      \t|  0.0046936      \t|\n",
      "|  [LightningModule]Classifier.on_after_backward                                                                                                                  \t|  6.3031e-07     \t|  10200          \t|  0.0064292      \t|  0.0045946      \t|\n",
      "|  [Callback]ModelCheckpoint{'monitor': None, 'mode': 'min', 'every_n_train_steps': 0, 'every_n_epochs': 1, 'train_time_interval': None}.on_train_batch_start     \t|  6.1463e-07     \t|  10200          \t|  0.0062692      \t|  0.0044802      \t|\n",
      "|  [Callback]TQDMProgressBar.on_after_backward                                                                                                                    \t|  5.9431e-07     \t|  10200          \t|  0.0060619      \t|  0.0043321      \t|\n",
      "|  [Callback]ModelCheckpoint{'monitor': None, 'mode': 'min', 'every_n_train_steps': 0, 'every_n_epochs': 1, 'train_time_interval': None}.on_before_zero_grad      \t|  5.9104e-07     \t|  10200          \t|  0.0060286      \t|  0.0043083      \t|\n",
      "|  [Callback]TQDMProgressBar.on_before_backward                                                                                                                   \t|  5.8073e-07     \t|  10200          \t|  0.0059235      \t|  0.0042332      \t|\n",
      "|  [Callback]EarlyStopping{'monitor': 'val_loss', 'mode': 'min'}.on_before_optimizer_step                                                                         \t|  5.7629e-07     \t|  10200          \t|  0.0058782      \t|  0.0042008      \t|\n",
      "|  [Callback]EarlyStopping{'monitor': 'val_loss', 'mode': 'min'}.on_before_backward                                                                               \t|  5.7363e-07     \t|  10200          \t|  0.0058511      \t|  0.0041814      \t|\n",
      "|  [Callback]TQDMProgressBar.on_before_optimizer_step                                                                                                             \t|  5.5641e-07     \t|  10200          \t|  0.0056753      \t|  0.0040558      \t|\n",
      "|  [Callback]ModelCheckpoint{'monitor': None, 'mode': 'min', 'every_n_train_steps': 0, 'every_n_epochs': 1, 'train_time_interval': None}.on_before_optimizer_step \t|  5.5577e-07     \t|  10200          \t|  0.0056688      \t|  0.0040512      \t|\n",
      "|  [LightningModule]Classifier.on_before_optimizer_step                                                                                                           \t|  5.5294e-07     \t|  10200          \t|  0.00564        \t|  0.0040306      \t|\n",
      "|  [Callback]ModelCheckpoint{'monitor': None, 'mode': 'min', 'every_n_train_steps': 0, 'every_n_epochs': 1, 'train_time_interval': None}.on_before_backward       \t|  5.4524e-07     \t|  10200          \t|  0.0055614      \t|  0.0039744      \t|\n",
      "|  [Callback]TQDMProgressBar.on_sanity_check_start                                                                                                                \t|  0.0046198      \t|  1              \t|  0.0046198      \t|  0.0033015      \t|\n",
      "|  [LightningModule]Classifier.on_validation_model_zero_grad                                                                                                      \t|  4.0179e-05     \t|  100            \t|  0.0040179      \t|  0.0028714      \t|\n",
      "|  [Callback]TQDMProgressBar.on_train_start                                                                                                                       \t|  0.0039844      \t|  1              \t|  0.0039844      \t|  0.0028474      \t|\n",
      "|  [Callback]ModelCheckpoint{'monitor': None, 'mode': 'min', 'every_n_train_steps': 0, 'every_n_epochs': 1, 'train_time_interval': None}.on_validation_end        \t|  2.5146e-05     \t|  101            \t|  0.0025398      \t|  0.001815       \t|\n",
      "|  [LightningModule]Classifier.on_validation_model_eval                                                                                                           \t|  2.4893e-05     \t|  101            \t|  0.0025142      \t|  0.0017967      \t|\n",
      "|  [LightningDataModule]ClassifierDataModule.setup                                                                                                                \t|  0.0017578      \t|  1              \t|  0.0017578      \t|  0.0012562      \t|\n",
      "|  [Callback]ModelSummary.on_fit_start                                                                                                                            \t|  0.00068242     \t|  1              \t|  0.00068242     \t|  0.00048768     \t|\n",
      "|  [Callback]ModelCheckpoint{'monitor': None, 'mode': 'min', 'every_n_train_steps': 0, 'every_n_epochs': 1, 'train_time_interval': None}.on_validation_start      \t|  3.969e-06      \t|  101            \t|  0.00040087     \t|  0.00028648     \t|\n",
      "|  [LightningDataModule]ClassifierDataModule.train_dataloader                                                                                                     \t|  0.00022008     \t|  1              \t|  0.00022008     \t|  0.00015728     \t|\n",
      "|  [Callback]ModelSummary.on_validation_end                                                                                                                       \t|  2.1423e-06     \t|  101            \t|  0.00021637     \t|  0.00015463     \t|\n",
      "|  [Callback]ModelCheckpoint{'monitor': None, 'mode': 'min', 'every_n_train_steps': 0, 'every_n_epochs': 1, 'train_time_interval': None}.on_train_epoch_start     \t|  2.1525e-06     \t|  100            \t|  0.00021525     \t|  0.00015383     \t|\n",
      "|  [Callback]TQDMProgressBar.on_train_end                                                                                                                         \t|  0.00021417     \t|  1              \t|  0.00021417     \t|  0.00015305     \t|\n",
      "|  [Callback]ModelSummary.on_validation_epoch_end                                                                                                                 \t|  1.7838e-06     \t|  101            \t|  0.00018016     \t|  0.00012875     \t|\n",
      "|  [Strategy]SingleDeviceStrategy.on_validation_end                                                                                                               \t|  1.7389e-06     \t|  101            \t|  0.00017563     \t|  0.00012551     \t|\n",
      "|  [LightningModule]Classifier.configure_optimizers                                                                                                               \t|  0.00015833     \t|  1              \t|  0.00015833     \t|  0.00011315     \t|\n",
      "|  [Callback]ModelSummary.on_train_epoch_start                                                                                                                    \t|  1.4775e-06     \t|  100            \t|  0.00014775     \t|  0.00010559     \t|\n",
      "|  [Callback]ModelSummary.on_train_epoch_end                                                                                                                      \t|  1.4012e-06     \t|  100            \t|  0.00014012     \t|  0.00010014     \t|\n",
      "|  [LightningDataModule]ClassifierDataModule.state_dict                                                                                                           \t|  1.39e-06       \t|  100            \t|  0.000139       \t|  9.9334e-05     \t|\n",
      "|  [Callback]EarlyStopping{'monitor': 'val_loss', 'mode': 'min'}.on_validation_end                                                                                \t|  1.271e-06      \t|  101            \t|  0.00012838     \t|  9.1743e-05     \t|\n",
      "|  [LightningDataModule]ClassifierDataModule.val_dataloader                                                                                                       \t|  0.00012825     \t|  1              \t|  0.00012825     \t|  9.1653e-05     \t|\n",
      "|  [Callback]ModelSummary.on_save_checkpoint                                                                                                                      \t|  1.1766e-06     \t|  100            \t|  0.00011766     \t|  8.4086e-05     \t|\n",
      "|  [Callback]ModelCheckpoint{'monitor': None, 'mode': 'min', 'every_n_train_steps': 0, 'every_n_epochs': 1, 'train_time_interval': None}.setup                    \t|  0.00011587     \t|  1              \t|  0.00011587     \t|  8.2809e-05     \t|\n",
      "|  [Callback]ModelSummary.on_validation_start                                                                                                                     \t|  1.1134e-06     \t|  101            \t|  0.00011246     \t|  8.0367e-05     \t|\n",
      "|  [Callback]ModelSummary.on_validation_epoch_start                                                                                                               \t|  1.0293e-06     \t|  101            \t|  0.00010395     \t|  7.4291e-05     \t|\n",
      "|  [LightningModule]Classifier.on_validation_epoch_end                                                                                                            \t|  1.0082e-06     \t|  101            \t|  0.00010182     \t|  7.2769e-05     \t|\n",
      "|  [LightningModule]Classifier.on_validation_start                                                                                                                \t|  9.2038e-07     \t|  101            \t|  9.2958e-05     \t|  6.6432e-05     \t|\n",
      "|  [LightningModule]Classifier.on_train_epoch_start                                                                                                               \t|  9.1083e-07     \t|  100            \t|  9.1083e-05     \t|  6.5092e-05     \t|\n",
      "|  [LightningModule]Classifier.on_train_epoch_end                                                                                                                 \t|  9.0037e-07     \t|  100            \t|  9.0037e-05     \t|  6.4344e-05     \t|\n",
      "|  [LightningModule]Classifier.on_validation_end                                                                                                                  \t|  8.5644e-07     \t|  101            \t|  8.65e-05       \t|  6.1817e-05     \t|\n",
      "|  [Callback]EarlyStopping{'monitor': 'val_loss', 'mode': 'min'}.on_save_checkpoint                                                                               \t|  7.7664e-07     \t|  100            \t|  7.7664e-05     \t|  5.5502e-05     \t|\n",
      "|  [Callback]EarlyStopping{'monitor': 'val_loss', 'mode': 'min'}.on_validation_epoch_end                                                                          \t|  6.8478e-07     \t|  101            \t|  6.9163e-05     \t|  4.9427e-05     \t|\n",
      "|  [Strategy]SingleDeviceStrategy.on_validation_start                                                                                                             \t|  6.5348e-07     \t|  101            \t|  6.6001e-05     \t|  4.7167e-05     \t|\n",
      "|  [Callback]ModelCheckpoint{'monitor': None, 'mode': 'min', 'every_n_train_steps': 0, 'every_n_epochs': 1, 'train_time_interval': None}.on_save_checkpoint       \t|  6.5501e-07     \t|  100            \t|  6.5501e-05     \t|  4.681e-05      \t|\n",
      "|  [Callback]EarlyStopping{'monitor': 'val_loss', 'mode': 'min'}.on_train_epoch_start                                                                             \t|  6.2545e-07     \t|  100            \t|  6.2545e-05     \t|  4.4698e-05     \t|\n",
      "|  [Callback]ModelCheckpoint{'monitor': None, 'mode': 'min', 'every_n_train_steps': 0, 'every_n_epochs': 1, 'train_time_interval': None}.on_validation_epoch_end  \t|  5.9487e-07     \t|  101            \t|  6.0082e-05     \t|  4.2937e-05     \t|\n",
      "|  [Callback]ModelCheckpoint{'monitor': None, 'mode': 'min', 'every_n_train_steps': 0, 'every_n_epochs': 1, 'train_time_interval': None}.on_validation_epoch_start\t|  5.8498e-07     \t|  101            \t|  5.9083e-05     \t|  4.2223e-05     \t|\n",
      "|  [Callback]EarlyStopping{'monitor': 'val_loss', 'mode': 'min'}.on_validation_start                                                                              \t|  5.7467e-07     \t|  101            \t|  5.8042e-05     \t|  4.1479e-05     \t|\n",
      "|  [LightningModule]Classifier.on_validation_epoch_start                                                                                                          \t|  5.6642e-07     \t|  101            \t|  5.7208e-05     \t|  4.0883e-05     \t|\n",
      "|  [Callback]TQDMProgressBar.on_save_checkpoint                                                                                                                   \t|  5.6625e-07     \t|  100            \t|  5.6625e-05     \t|  4.0467e-05     \t|\n",
      "|  [Callback]EarlyStopping{'monitor': 'val_loss', 'mode': 'min'}.on_validation_epoch_start                                                                        \t|  5.6023e-07     \t|  101            \t|  5.6583e-05     \t|  4.0437e-05     \t|\n",
      "|  [Callback]TQDMProgressBar.on_validation_epoch_end                                                                                                              \t|  5.5527e-07     \t|  101            \t|  5.6082e-05     \t|  4.0079e-05     \t|\n",
      "|  [Callback]TQDMProgressBar.on_validation_epoch_start                                                                                                            \t|  5.1653e-07     \t|  101            \t|  5.2169e-05     \t|  3.7282e-05     \t|\n",
      "|  [LightningModule]Classifier.on_save_checkpoint                                                                                                                 \t|  4.2256e-07     \t|  100            \t|  4.2256e-05     \t|  3.0198e-05     \t|\n",
      "|  [Callback]ModelCheckpoint{'monitor': None, 'mode': 'min', 'every_n_train_steps': 0, 'every_n_epochs': 1, 'train_time_interval': None}.on_train_start           \t|  5.625e-06      \t|  1              \t|  5.625e-06      \t|  4.0199e-06     \t|\n",
      "|  [Callback]ModelCheckpoint{'monitor': None, 'mode': 'min', 'every_n_train_steps': 0, 'every_n_epochs': 1, 'train_time_interval': None}.on_sanity_check_start    \t|  3.917e-06      \t|  1              \t|  3.917e-06      \t|  2.7992e-06     \t|\n",
      "|  [Callback]TQDMProgressBar.setup                                                                                                                                \t|  3.084e-06      \t|  1              \t|  3.084e-06      \t|  2.2039e-06     \t|\n",
      "|  [Callback]ModelSummary.on_train_start                                                                                                                          \t|  2.958e-06      \t|  1              \t|  2.958e-06      \t|  2.1139e-06     \t|\n",
      "|  [Callback]TQDMProgressBar.on_sanity_check_end                                                                                                                  \t|  2.834e-06      \t|  1              \t|  2.834e-06      \t|  2.0253e-06     \t|\n",
      "|  [Callback]ModelSummary.on_fit_end                                                                                                                              \t|  2.625e-06      \t|  1              \t|  2.625e-06      \t|  1.8759e-06     \t|\n",
      "|  [Callback]EarlyStopping{'monitor': 'val_loss', 'mode': 'min'}.setup                                                                                            \t|  2.333e-06      \t|  1              \t|  2.333e-06      \t|  1.6673e-06     \t|\n",
      "|  [Callback]ModelSummary.setup                                                                                                                                   \t|  1.917e-06      \t|  1              \t|  1.917e-06      \t|  1.37e-06       \t|\n",
      "|  [Callback]EarlyStopping{'monitor': 'val_loss', 'mode': 'min'}.on_fit_start                                                                                     \t|  1.75e-06       \t|  1              \t|  1.75e-06       \t|  1.2506e-06     \t|\n",
      "|  [Callback]ModelSummary.on_sanity_check_start                                                                                                                   \t|  1.666e-06      \t|  1              \t|  1.666e-06      \t|  1.1906e-06     \t|\n",
      "|  [Callback]ModelSummary.on_sanity_check_end                                                                                                                     \t|  1.625e-06      \t|  1              \t|  1.625e-06      \t|  1.1613e-06     \t|\n",
      "|  [LightningModule]Classifier.configure_callbacks                                                                                                                \t|  1.459e-06      \t|  1              \t|  1.459e-06      \t|  1.0427e-06     \t|\n",
      "|  [LightningModule]Classifier.setup                                                                                                                              \t|  1.4169e-06     \t|  1              \t|  1.4169e-06     \t|  1.0126e-06     \t|\n",
      "|  [Callback]ModelSummary.on_train_end                                                                                                                            \t|  1.291e-06      \t|  1              \t|  1.291e-06      \t|  9.2264e-07     \t|\n",
      "|  [LightningModule]Classifier.on_train_start                                                                                                                     \t|  1.041e-06      \t|  1              \t|  1.041e-06      \t|  7.4393e-07     \t|\n",
      "|  [LightningDataModule]ClassifierDataModule.teardown                                                                                                             \t|  9.5798e-07     \t|  1              \t|  9.5798e-07     \t|  6.8462e-07     \t|\n",
      "|  [Callback]ModelSummary.teardown                                                                                                                                \t|  9.17e-07       \t|  1              \t|  9.17e-07       \t|  6.5533e-07     \t|\n",
      "|  [Callback]ModelCheckpoint{'monitor': None, 'mode': 'min', 'every_n_train_steps': 0, 'every_n_epochs': 1, 'train_time_interval': None}.on_train_end             \t|  8.7498e-07     \t|  1              \t|  8.7498e-07     \t|  6.253e-07      \t|\n",
      "|  [Strategy]SingleDeviceStrategy.on_train_start                                                                                                                  \t|  8.3301e-07     \t|  1              \t|  8.3301e-07     \t|  5.953e-07      \t|\n",
      "|  [LightningModule]Classifier.on_fit_end                                                                                                                         \t|  8.3295e-07     \t|  1              \t|  8.3295e-07     \t|  5.9526e-07     \t|\n",
      "|  [Callback]EarlyStopping{'monitor': 'val_loss', 'mode': 'min'}.on_fit_end                                                                                       \t|  7.9104e-07     \t|  1              \t|  7.9104e-07     \t|  5.6531e-07     \t|\n",
      "|  [Callback]TQDMProgressBar.on_fit_start                                                                                                                         \t|  7.5001e-07     \t|  1              \t|  7.5001e-07     \t|  5.3599e-07     \t|\n",
      "|  [LightningModule]Classifier.on_fit_start                                                                                                                       \t|  7.5001e-07     \t|  1              \t|  7.5001e-07     \t|  5.3599e-07     \t|\n",
      "|  [Callback]EarlyStopping{'monitor': 'val_loss', 'mode': 'min'}.on_train_start                                                                                   \t|  7.5001e-07     \t|  1              \t|  7.5001e-07     \t|  5.3599e-07     \t|\n",
      "|  [LightningModule]Classifier.on_train_end                                                                                                                       \t|  7.0897e-07     \t|  1              \t|  7.0897e-07     \t|  5.0666e-07     \t|\n",
      "|  [Callback]EarlyStopping{'monitor': 'val_loss', 'mode': 'min'}.on_sanity_check_start                                                                            \t|  7.0798e-07     \t|  1              \t|  7.0798e-07     \t|  5.0595e-07     \t|\n",
      "|  [Strategy]SingleDeviceStrategy.on_train_end                                                                                                                    \t|  7.0798e-07     \t|  1              \t|  7.0798e-07     \t|  5.0595e-07     \t|\n",
      "|  [Callback]EarlyStopping{'monitor': 'val_loss', 'mode': 'min'}.on_sanity_check_end                                                                              \t|  6.6595e-07     \t|  1              \t|  6.6595e-07     \t|  4.7592e-07     \t|\n",
      "|  [Callback]EarlyStopping{'monitor': 'val_loss', 'mode': 'min'}.on_train_end                                                                                     \t|  6.2503e-07     \t|  1              \t|  6.2503e-07     \t|  4.4668e-07     \t|\n",
      "|  [Callback]ModelCheckpoint{'monitor': None, 'mode': 'min', 'every_n_train_steps': 0, 'every_n_epochs': 1, 'train_time_interval': None}.on_fit_start             \t|  6.2498e-07     \t|  1              \t|  6.2498e-07     \t|  4.4663e-07     \t|\n",
      "|  [Callback]ModelCheckpoint{'monitor': None, 'mode': 'min', 'every_n_train_steps': 0, 'every_n_epochs': 1, 'train_time_interval': None}.teardown                 \t|  6.2498e-07     \t|  1              \t|  6.2498e-07     \t|  4.4663e-07     \t|\n",
      "|  [Callback]TQDMProgressBar.on_fit_end                                                                                                                           \t|  5.84e-07       \t|  1              \t|  5.84e-07       \t|  4.1735e-07     \t|\n",
      "|  [Callback]EarlyStopping{'monitor': 'val_loss', 'mode': 'min'}.teardown                                                                                         \t|  5.84e-07       \t|  1              \t|  5.84e-07       \t|  4.1735e-07     \t|\n",
      "|  [Callback]ModelCheckpoint{'monitor': None, 'mode': 'min', 'every_n_train_steps': 0, 'every_n_epochs': 1, 'train_time_interval': None}.on_sanity_check_end      \t|  5.8301e-07     \t|  1              \t|  5.8301e-07     \t|  4.1664e-07     \t|\n",
      "|  [Callback]ModelCheckpoint{'monitor': None, 'mode': 'min', 'every_n_train_steps': 0, 'every_n_epochs': 1, 'train_time_interval': None}.on_fit_end               \t|  5.4203e-07     \t|  1              \t|  5.4203e-07     \t|  3.8736e-07     \t|\n",
      "|  [Callback]TQDMProgressBar.teardown                                                                                                                             \t|  5.4098e-07     \t|  1              \t|  5.4098e-07     \t|  3.8661e-07     \t|\n",
      "|  [LightningModule]Classifier.teardown                                                                                                                           \t|  4.1601e-07     \t|  1              \t|  4.1601e-07     \t|  2.973e-07      \t|\n",
      "--------------------------------------------------------------------------------------------------------------------------------------------------------------------------------------------------------------------------------------------------------------------------\n",
      "\n"
     ]
    }
   ],
   "source": [
    "from lightning.pytorch.callbacks import ModelSummary, EarlyStopping, LearningRateFinder\n",
    "\n",
    "num_epochs = 100\n",
    "num_hidden = np.mean(np.array([len(columns), len(rooms)])).astype(np.int8)\n",
    "lr = 1e-4\n",
    "batch_size = 8\n",
    "seed = 1536282\n",
    "\n",
    "model_summary = ModelSummary(max_depth=-1)\n",
    "early_stopping = EarlyStopping(monitor=\"val_loss\", mode=\"min\")\n",
    "learning_rate = LearningRateFinder()\n",
    "\n",
    "trainer = L.Trainer(\n",
    "    max_epochs=num_epochs, \n",
    "    callbacks=[model_summary, early_stopping],\n",
    "    profiler=\"simple\")\n",
    "\n",
    "model = Classifier(num_hidden, 5, lr)\n",
    "data_module = RoomPredictorDataModule(file, ratios=[.8,.1,.1], batch_size=batch_size, target_column=\"room\")\n",
    "\n",
    "trainer.fit(model=model, datamodule=data_module)"
   ]
  },
  {
   "cell_type": "code",
   "execution_count": 1,
   "id": "54b08efd736957a2",
   "metadata": {},
   "outputs": [],
   "source": [
    "import coremltools as ct\n",
    "from scripts.shared_utilities import *"
   ]
  },
  {
   "cell_type": "code",
   "execution_count": 11,
   "id": "6c56a043",
   "metadata": {},
   "outputs": [
    {
     "name": "stderr",
     "output_type": "stream",
     "text": [
      "/opt/homebrew/Caskroom/miniforge/base/envs/RoomPredictor/lib/python3.10/site-packages/torch/nn/modules/lazy.py:181: UserWarning: Lazy modules are a new feature under heavy development so changes to the API or functionality can happen at any moment.\n",
      "  warnings.warn('Lazy modules are a new feature under heavy development '\n"
     ]
    }
   ],
   "source": [
    "model = Classifier.load_from_checkpoint(\"logs/classifier/version_13/checkpoints/epoch=971-step=99144.ckpt\")"
   ]
  },
  {
   "cell_type": "code",
   "execution_count": 3,
   "id": "5c4f9c58",
   "metadata": {},
   "outputs": [
    {
     "data": {
      "text/plain": [
       "Classifier(\n",
       "  (model): Sequential(\n",
       "    (0): LazyLinear(in_features=0, out_features=180, bias=True)\n",
       "    (1): LayerNorm((180,), eps=1e-05, elementwise_affine=True)\n",
       "    (2): SELU()\n",
       "    (3): Dropout(p=0.3, inplace=False)\n",
       "    (4): LazyLinear(in_features=0, out_features=5, bias=True)\n",
       "  )\n",
       "  (loss): CrossEntropyLoss()\n",
       ")"
      ]
     },
     "execution_count": 3,
     "metadata": {},
     "output_type": "execute_result"
    }
   ],
   "source": [
    "model.eval()"
   ]
  },
  {
   "cell_type": "code",
   "execution_count": 15,
   "id": "0e7fa8a5",
   "metadata": {},
   "outputs": [],
   "source": [
    "import torch\n",
    "\n",
    "model.eval()\n",
    "\n",
    "example_input = torch.rand(1, model.hparams.num_inputs, model.hparams.num_features) \n",
    "traced_model = model.to_torchscript(method=\"trace\", example_inputs=example_input)\n",
    "\n"
   ]
  },
  {
   "cell_type": "code",
   "execution_count": 18,
   "id": "b3e26b98",
   "metadata": {},
   "outputs": [
    {
     "name": "stderr",
     "output_type": "stream",
     "text": [
      "When both 'convert_to' and 'minimum_deployment_target' not specified, 'convert_to' is set to \"mlprogram\" and 'minimum_deployment_target' is set to ct.target.iOS15 (which is same as ct.target.macOS12). Note: the model will not run on systems older than iOS15/macOS12/watchOS8/tvOS15. In order to make your model run on older system, please set the 'minimum_deployment_target' to iOS14/iOS13. Details please see the link: https://apple.github.io/coremltools/docs-guides/source/target-conversion-formats.html\n",
      "Converting PyTorch Frontend ==> MIL Ops:  91%|█████████ | 10/11 [00:00<00:00, 6141.90 ops/s]\n",
      "Running MIL frontend_pytorch pipeline: 100%|██████████| 5/5 [00:00<00:00, 7011.54 passes/s]\n",
      "Running MIL default pipeline: 100%|██████████| 88/88 [00:00<00:00, 3026.12 passes/s]\n",
      "Running MIL backend_mlprogram pipeline: 100%|██████████| 12/12 [00:00<00:00, 5309.81 passes/s]\n"
     ]
    }
   ],
   "source": [
    "model_from_trace = ct.convert(\n",
    "    traced_model,\n",
    "    inputs=[ct.TensorType(shape=example_input.shape)],\n",
    ")\n",
    "model_from_trace.save(\"newmodel_from_trace.mlpackage\")"
   ]
  },
  {
   "cell_type": "code",
   "execution_count": 10,
   "id": "229c68c3",
   "metadata": {},
   "outputs": [
    {
     "data": {
      "text/plain": [
       "tensor([[[0.4963, 0.7682, 0.0885,  ..., 0.8059, 0.1839, 0.7243],\n",
       "         [0.1466, 0.2881, 0.6471,  ..., 0.9932, 0.7875, 0.4437],\n",
       "         [0.6753, 0.0095, 0.0729,  ..., 0.2614, 0.8203, 0.4365],\n",
       "         ...,\n",
       "         [0.0932, 0.4086, 0.8896,  ..., 0.5894, 0.5028, 0.1075],\n",
       "         [0.2787, 0.2665, 0.0046,  ..., 0.5407, 0.2489, 0.7414],\n",
       "         [0.5872, 0.0623, 0.1760,  ..., 0.4622, 0.0103, 0.3348]]])"
      ]
     },
     "execution_count": 10,
     "metadata": {},
     "output_type": "execute_result"
    }
   ],
   "source": [
    "example_input"
   ]
  },
  {
   "cell_type": "code",
   "execution_count": null,
   "id": "cda399fb",
   "metadata": {},
   "outputs": [],
   "source": []
  }
 ],
 "metadata": {
  "kernelspec": {
   "display_name": "RoomPredictor",
   "language": "python",
   "name": "python3"
  },
  "language_info": {
   "codemirror_mode": {
    "name": "ipython",
    "version": 3
   },
   "file_extension": ".py",
   "mimetype": "text/x-python",
   "name": "python",
   "nbconvert_exporter": "python",
   "pygments_lexer": "ipython3",
   "version": "3.10.14"
  }
 },
 "nbformat": 4,
 "nbformat_minor": 5
}
