{
 "cells": [
  {
   "cell_type": "code",
   "execution_count": 7,
   "metadata": {},
   "outputs": [
    {
     "ename": "TypeError",
     "evalue": "'property' object is not callable",
     "output_type": "error",
     "traceback": [
      "\u001b[0;31m---------------------------------------------------------------------------\u001b[0m",
      "\u001b[0;31mTypeError\u001b[0m                                 Traceback (most recent call last)",
      "Cell \u001b[0;32mIn[7], line 17\u001b[0m\n\u001b[1;32m     14\u001b[0m         \u001b[38;5;28;01mfor\u001b[39;00m dev \u001b[38;5;129;01min\u001b[39;00m found:\n\u001b[1;32m     15\u001b[0m             \u001b[38;5;28mprint\u001b[39m(dev\u001b[38;5;241m.\u001b[39maddress, dev)\n\u001b[0;32m---> 17\u001b[0m \u001b[38;5;28;01mawait\u001b[39;00m main()\n",
      "Cell \u001b[0;32mIn[7], line 6\u001b[0m, in \u001b[0;36mmain\u001b[0;34m()\u001b[0m\n\u001b[1;32m      4\u001b[0m \u001b[38;5;28;01masync\u001b[39;00m \u001b[38;5;28;01mdef\u001b[39;00m \u001b[38;5;21mmain\u001b[39m():\n\u001b[1;32m      5\u001b[0m     \u001b[38;5;28;01mwhile\u001b[39;00m \u001b[38;5;28;01mTrue\u001b[39;00m:\n\u001b[0;32m----> 6\u001b[0m         devices \u001b[38;5;241m=\u001b[39m \u001b[38;5;28;01mawait\u001b[39;00m BleakScanner\u001b[38;5;241m.\u001b[39mdiscovered_devices_and_advertisement_data()\n\u001b[1;32m      7\u001b[0m         found \u001b[38;5;241m=\u001b[39m []\n\u001b[1;32m      8\u001b[0m         \u001b[38;5;28;01mfor\u001b[39;00m device \u001b[38;5;129;01min\u001b[39;00m devices:\n\u001b[1;32m      9\u001b[0m             \u001b[38;5;66;03m# print(device)\u001b[39;00m\n",
      "\u001b[0;31mTypeError\u001b[0m: 'property' object is not callable"
     ]
    }
   ],
   "source": [
    "import asyncio\n",
    "from bleak import BleakScanner, BLEDevice\n",
    "\n",
    "async def main():\n",
    "    while True:\n",
    "        devices = await BleakScanner.discovered_devices_and_advertisement_data()\n",
    "        found = []\n",
    "        for device in devices:\n",
    "            # print(device)\n",
    "            if device.name is not None and \"beacon\" in device.name.lower():\n",
    "                found.append(device)\n",
    "                \n",
    "        dev: BLEDevice\n",
    "        for dev in found:\n",
    "            print(dev.address, dev)\n",
    "\n",
    "await main()\n",
    "\n"
   ]
  },
  {
   "cell_type": "markdown",
   "metadata": {},
   "source": [
    "6965680D-633E-BFB7-A5FA-548907D47ADC\n",
    "D9DA2BE7-CF20-096C-1532-750D49104F9A\n",
    "79837152-C559-6F7B-337D-3AF44C58BDF6\n",
    "DC4C4B32-33B5-1BA3-9328-784549D963A9"
   ]
  }
 ],
 "metadata": {
  "kernelspec": {
   "display_name": "RoomPredictor",
   "language": "python",
   "name": "python3"
  },
  "language_info": {
   "codemirror_mode": {
    "name": "ipython",
    "version": 3
   },
   "file_extension": ".py",
   "mimetype": "text/x-python",
   "name": "python",
   "nbconvert_exporter": "python",
   "pygments_lexer": "ipython3",
   "version": "3.10.14"
  }
 },
 "nbformat": 4,
 "nbformat_minor": 2
}
